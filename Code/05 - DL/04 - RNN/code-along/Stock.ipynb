{
 "cells": [
  {
   "cell_type": "markdown",
   "metadata": {},
   "source": [
    "# Predict Apple Stock using LSTM"
   ]
  },
  {
   "cell_type": "code",
   "execution_count": 70,
   "metadata": {},
   "outputs": [],
   "source": [
    "import torch\n",
    "import torch.nn as nn\n",
    "\n",
    "import numpy as np\n",
    "import pandas as pd\n",
    "import matplotlib.pyplot as plt"
   ]
  },
  {
   "cell_type": "markdown",
   "metadata": {},
   "source": [
    "## 1. ETL"
   ]
  },
  {
   "cell_type": "code",
   "execution_count": 71,
   "metadata": {},
   "outputs": [
    {
     "data": {
      "text/plain": [
       "8465"
      ]
     },
     "execution_count": 71,
     "metadata": {},
     "output_type": "execute_result"
    }
   ],
   "source": [
    "df = pd.read_csv('../data/appl_1980_2014.csv')\n",
    "df.head()\n",
    "len(df)"
   ]
  },
  {
   "cell_type": "code",
   "execution_count": 72,
   "metadata": {},
   "outputs": [],
   "source": [
    "df.Date = pd.to_datetime(df.Date)"
   ]
  },
  {
   "cell_type": "code",
   "execution_count": 73,
   "metadata": {},
   "outputs": [
    {
     "data": {
      "text/plain": [
       "array([2014, 2013, 2012, 2011, 2010, 2009, 2008, 2007, 2006, 2005, 2004,\n",
       "       2003, 2002, 2001, 2000, 1999, 1998, 1997, 1996, 1995, 1994, 1993,\n",
       "       1992, 1991, 1990, 1989, 1988, 1987, 1986, 1985, 1984, 1983, 1982,\n",
       "       1981, 1980])"
      ]
     },
     "execution_count": 73,
     "metadata": {},
     "output_type": "execute_result"
    }
   ],
   "source": [
    "df.Date.dt.year.unique()"
   ]
  },
  {
   "cell_type": "code",
   "execution_count": 74,
   "metadata": {},
   "outputs": [],
   "source": [
    "#let's scope it to only 2010 to 2014 to reduce computation\n",
    "cond = (df.Date.dt.year > 2009) & (df.Date.dt.year < 2014)\n",
    "df = df[cond]"
   ]
  },
  {
   "cell_type": "code",
   "execution_count": 75,
   "metadata": {},
   "outputs": [],
   "source": [
    "df = df.set_index('Date')"
   ]
  },
  {
   "cell_type": "code",
   "execution_count": 76,
   "metadata": {},
   "outputs": [],
   "source": [
    "df.sort_index(ascending=True, inplace=True)"
   ]
  },
  {
   "cell_type": "code",
   "execution_count": 77,
   "metadata": {},
   "outputs": [
    {
     "data": {
      "text/html": [
       "<div>\n",
       "<style scoped>\n",
       "    .dataframe tbody tr th:only-of-type {\n",
       "        vertical-align: middle;\n",
       "    }\n",
       "\n",
       "    .dataframe tbody tr th {\n",
       "        vertical-align: top;\n",
       "    }\n",
       "\n",
       "    .dataframe thead th {\n",
       "        text-align: right;\n",
       "    }\n",
       "</style>\n",
       "<table border=\"1\" class=\"dataframe\">\n",
       "  <thead>\n",
       "    <tr style=\"text-align: right;\">\n",
       "      <th></th>\n",
       "      <th>Open</th>\n",
       "      <th>High</th>\n",
       "      <th>Low</th>\n",
       "      <th>Close</th>\n",
       "      <th>Volume</th>\n",
       "      <th>Adj Close</th>\n",
       "    </tr>\n",
       "    <tr>\n",
       "      <th>Date</th>\n",
       "      <th></th>\n",
       "      <th></th>\n",
       "      <th></th>\n",
       "      <th></th>\n",
       "      <th></th>\n",
       "      <th></th>\n",
       "    </tr>\n",
       "  </thead>\n",
       "  <tbody>\n",
       "    <tr>\n",
       "      <th>2010-01-04</th>\n",
       "      <td>213.43</td>\n",
       "      <td>214.50</td>\n",
       "      <td>212.38</td>\n",
       "      <td>214.01</td>\n",
       "      <td>123432400</td>\n",
       "      <td>29.22</td>\n",
       "    </tr>\n",
       "    <tr>\n",
       "      <th>2010-01-05</th>\n",
       "      <td>214.60</td>\n",
       "      <td>215.59</td>\n",
       "      <td>213.25</td>\n",
       "      <td>214.38</td>\n",
       "      <td>150476200</td>\n",
       "      <td>29.27</td>\n",
       "    </tr>\n",
       "    <tr>\n",
       "      <th>2010-01-06</th>\n",
       "      <td>214.38</td>\n",
       "      <td>215.23</td>\n",
       "      <td>210.75</td>\n",
       "      <td>210.97</td>\n",
       "      <td>138040000</td>\n",
       "      <td>28.81</td>\n",
       "    </tr>\n",
       "    <tr>\n",
       "      <th>2010-01-07</th>\n",
       "      <td>211.75</td>\n",
       "      <td>212.00</td>\n",
       "      <td>209.05</td>\n",
       "      <td>210.58</td>\n",
       "      <td>119282800</td>\n",
       "      <td>28.75</td>\n",
       "    </tr>\n",
       "    <tr>\n",
       "      <th>2010-01-08</th>\n",
       "      <td>210.30</td>\n",
       "      <td>212.00</td>\n",
       "      <td>209.06</td>\n",
       "      <td>211.98</td>\n",
       "      <td>111902700</td>\n",
       "      <td>28.94</td>\n",
       "    </tr>\n",
       "    <tr>\n",
       "      <th>...</th>\n",
       "      <td>...</td>\n",
       "      <td>...</td>\n",
       "      <td>...</td>\n",
       "      <td>...</td>\n",
       "      <td>...</td>\n",
       "      <td>...</td>\n",
       "    </tr>\n",
       "    <tr>\n",
       "      <th>2013-12-10</th>\n",
       "      <td>563.58</td>\n",
       "      <td>567.88</td>\n",
       "      <td>561.20</td>\n",
       "      <td>565.55</td>\n",
       "      <td>69567400</td>\n",
       "      <td>79.87</td>\n",
       "    </tr>\n",
       "    <tr>\n",
       "      <th>2013-12-11</th>\n",
       "      <td>567.00</td>\n",
       "      <td>570.97</td>\n",
       "      <td>559.69</td>\n",
       "      <td>561.36</td>\n",
       "      <td>89929700</td>\n",
       "      <td>79.27</td>\n",
       "    </tr>\n",
       "    <tr>\n",
       "      <th>2013-12-12</th>\n",
       "      <td>562.14</td>\n",
       "      <td>565.34</td>\n",
       "      <td>560.03</td>\n",
       "      <td>560.54</td>\n",
       "      <td>65572500</td>\n",
       "      <td>79.16</td>\n",
       "    </tr>\n",
       "    <tr>\n",
       "      <th>2013-12-13</th>\n",
       "      <td>562.85</td>\n",
       "      <td>562.88</td>\n",
       "      <td>553.67</td>\n",
       "      <td>554.43</td>\n",
       "      <td>83205500</td>\n",
       "      <td>78.30</td>\n",
       "    </tr>\n",
       "    <tr>\n",
       "      <th>2013-12-16</th>\n",
       "      <td>555.02</td>\n",
       "      <td>562.64</td>\n",
       "      <td>555.01</td>\n",
       "      <td>557.50</td>\n",
       "      <td>70648200</td>\n",
       "      <td>78.73</td>\n",
       "    </tr>\n",
       "  </tbody>\n",
       "</table>\n",
       "<p>996 rows × 6 columns</p>\n",
       "</div>"
      ],
      "text/plain": [
       "              Open    High     Low   Close     Volume  Adj Close\n",
       "Date                                                            \n",
       "2010-01-04  213.43  214.50  212.38  214.01  123432400      29.22\n",
       "2010-01-05  214.60  215.59  213.25  214.38  150476200      29.27\n",
       "2010-01-06  214.38  215.23  210.75  210.97  138040000      28.81\n",
       "2010-01-07  211.75  212.00  209.05  210.58  119282800      28.75\n",
       "2010-01-08  210.30  212.00  209.06  211.98  111902700      28.94\n",
       "...            ...     ...     ...     ...        ...        ...\n",
       "2013-12-10  563.58  567.88  561.20  565.55   69567400      79.87\n",
       "2013-12-11  567.00  570.97  559.69  561.36   89929700      79.27\n",
       "2013-12-12  562.14  565.34  560.03  560.54   65572500      79.16\n",
       "2013-12-13  562.85  562.88  553.67  554.43   83205500      78.30\n",
       "2013-12-16  555.02  562.64  555.01  557.50   70648200      78.73\n",
       "\n",
       "[996 rows x 6 columns]"
      ]
     },
     "execution_count": 77,
     "metadata": {},
     "output_type": "execute_result"
    }
   ],
   "source": [
    "df.head(-10)"
   ]
  },
  {
   "cell_type": "markdown",
   "metadata": {},
   "source": [
    "## 2. EDA: Plotting time series data\n",
    "We can add titles, axis labels, and other features to the plot.<br>\n",
    "We're going to tighten the x-axis to fit the width of the actual data with `plt.autoscale(axis='x',tight=True)`.<br>\n",
    "Alternatively you could set your own limits with <tt>plt.xlim(pd.Timestamp('1992-01-01'), pd.Timestamp('2019-01-01'))</tt> or some other values."
   ]
  },
  {
   "cell_type": "code",
   "execution_count": 78,
   "metadata": {},
   "outputs": [
    {
     "data": {
      "image/png": "[encoded data removed]",
      "text/plain": [
       "<Figure size 864x288 with 1 Axes>"
      ]
     },
     "metadata": {
      "needs_background": "light"
     },
     "output_type": "display_data"
    }
   ],
   "source": [
    "plt.figure(figsize=(12,4))\n",
    "plt.title('Apple Stock Prices (2010-2014)')\n",
    "plt.ylabel('Close Prices')\n",
    "plt.grid(True)\n",
    "plt.autoscale(axis='x',tight=True)\n",
    "plt.plot(df['Close'])\n",
    "plt.show()"
   ]
  },
  {
   "cell_type": "markdown",
   "metadata": {},
   "source": [
    "## 3. Feature Extraction\n",
    "\n",
    "In the next steps we'll divide the data into train/test sets, then normalize the training values so that they fall between -1 and 1 (to improve training). We'll train the model, then predict into a period that matches the test set. Finally, we'll forecast into an unknown future."
   ]
  },
  {
   "cell_type": "code",
   "execution_count": 79,
   "metadata": {
    "collapsed": true
   },
   "outputs": [],
   "source": [
    "# Extract values from the source .csv file\n",
    "y = df['Close'].values.astype(float)\n",
    "\n",
    "# Define a test size\n",
    "test_size = 15\n",
    "\n",
    "# Create train and test sets\n",
    "train_set = y[:-test_size]\n",
    "test_set  = y[-test_size:]"
   ]
  },
  {
   "cell_type": "code",
   "execution_count": 80,
   "metadata": {},
   "outputs": [
    {
     "data": {
      "text/plain": [
       "array([565.55, 561.36, 560.54, 554.43, 557.5 , 554.99, 550.77, 544.46,\n",
       "       549.02, 570.09, 567.67, 563.9 , 560.09, 554.52, 561.02])"
      ]
     },
     "execution_count": 80,
     "metadata": {},
     "output_type": "execute_result"
    }
   ],
   "source": [
    "test_set"
   ]
  },
  {
   "cell_type": "markdown",
   "metadata": {},
   "source": [
    "It's worth noting that in our previous exercise the train and test sets were tensors. Here they're numpy arrays. This is because one of the steps we're about to perform outputs an array, and we'd have to turn it into a tensor anyway."
   ]
  },
  {
   "cell_type": "markdown",
   "metadata": {},
   "source": [
    "## 4. Preprocessing"
   ]
  },
  {
   "cell_type": "markdown",
   "metadata": {},
   "source": [
    "### Normalize the data\n",
    "The formula for normalizing data around zero is:<br>\n",
    "### $X_{norm} = \\frac{X - \\mu} {\\sigma}$\n",
    "where $\\mu$ is the population mean, and $\\sigma$ is the population standard deviation.<br>\n",
    "Recall that back in the CNN section we transformed image files using <a href='https://pytorch.org/docs/stable/torchvision/transforms.html#torchvision.transforms.Normalize'><tt><strong>torchvision.transforms.Normalize(<em>mean, std</em>)</strong></tt></a>, both because it was built into DataLoader, and because our pretrained models expected specific normalization values.<br>\n",
    "\n",
    "Ultimately we want to perform <a href='https://en.wikipedia.org/wiki/Feature_scaling'>min/max feature scaling</a> so that our values fall between -1 and 1, as this makes hyperparameters converge faster.<br>The formula for this would be:<br>\n",
    "### $X^{\\prime} = a + \\frac{(X - X_{min}) (b - a)} {X_{max} - X_{min}}$\n",
    "where $a={-1}$ and $b=1$<br>\n",
    "\n",
    "We can use scikit-learn to do this, with <a href='https://scikit-learn.org/stable/modules/generated/sklearn.preprocessing.MinMaxScaler.html'><tt><strong>sklearn.preprocessing.MinMaxScaler()</strong></tt></a>\n",
    "\n",
    "NOTE: We only want to normalize the training set to avoid data leakage. If we include the test set then the higher average values of the test set could become part of the signal in the training set. There's a good article on data leakage <a href='test_set = input_data(test_norm,window_size)'>here</a>.\n",
    "\n",
    "After using transformed data to train the model and generate predictions, we'll inverse_transform the predicted values so that we can compare them to the actual test data."
   ]
  },
  {
   "cell_type": "code",
   "execution_count": 81,
   "metadata": {
    "collapsed": true
   },
   "outputs": [],
   "source": [
    "from sklearn.preprocessing import MinMaxScaler\n",
    "\n",
    "# Instantiate a scaler with a feature range from -1 to 1\n",
    "scaler = MinMaxScaler(feature_range=(-1, 1))"
   ]
  },
  {
   "cell_type": "code",
   "execution_count": 82,
   "metadata": {
    "collapsed": true
   },
   "outputs": [],
   "source": [
    "# Normalize the training set\n",
    "train_norm = scaler.fit_transform(train_set.reshape(-1, 1))"
   ]
  },
  {
   "cell_type": "code",
   "execution_count": 83,
   "metadata": {},
   "outputs": [
    {
     "data": {
      "text/plain": [
       "-0.9999999999999999"
      ]
     },
     "execution_count": 83,
     "metadata": {},
     "output_type": "execute_result"
    }
   ],
   "source": [
    "train_norm.min()"
   ]
  },
  {
   "cell_type": "code",
   "execution_count": 84,
   "metadata": {},
   "outputs": [
    {
     "data": {
      "text/plain": [
       "1.0"
      ]
     },
     "execution_count": 84,
     "metadata": {},
     "output_type": "execute_result"
    }
   ],
   "source": [
    "train_norm.max()"
   ]
  },
  {
   "cell_type": "code",
   "execution_count": 85,
   "metadata": {},
   "outputs": [
    {
     "data": {
      "text/plain": [
       "-0.12306197399969984"
      ]
     },
     "execution_count": 85,
     "metadata": {},
     "output_type": "execute_result"
    }
   ],
   "source": [
    "train_norm.mean()"
   ]
  },
  {
   "cell_type": "code",
   "execution_count": 86,
   "metadata": {},
   "outputs": [
    {
     "data": {
      "text/plain": [
       "numpy.ndarray"
      ]
     },
     "execution_count": 86,
     "metadata": {},
     "output_type": "execute_result"
    }
   ],
   "source": [
    "type(train_norm)"
   ]
  },
  {
   "cell_type": "markdown",
   "metadata": {},
   "source": [
    "### Prepare data for LSTM\n",
    "Here we'll create our list of (seq/label) tuples from the training set. Recall that an LSTM consumes a window of samples toward the first prediction, so the size of our training set will become ((325 - test_size) - window_size)."
   ]
  },
  {
   "cell_type": "code",
   "execution_count": 87,
   "metadata": {},
   "outputs": [
    {
     "data": {
      "text/plain": [
       "961"
      ]
     },
     "execution_count": 87,
     "metadata": {},
     "output_type": "execute_result"
    }
   ],
   "source": [
    "# Convert train_norm from an array to a tensor\n",
    "train_norm = torch.FloatTensor(train_norm).view(-1)\n",
    "\n",
    "# Define a window size\n",
    "window_size = 30\n",
    "\n",
    "# Define function to create seq/label tuples\n",
    "def input_data(seq,ws):  # ws is the window size\n",
    "    out = []\n",
    "    L = len(seq)\n",
    "    for i in range(L-ws):\n",
    "        window = seq[i:i+ws]\n",
    "        label = seq[i+ws:i+ws+1]\n",
    "        out.append((window,label))\n",
    "    return out\n",
    "\n",
    "# Apply the input_data function to train_norm\n",
    "train_data = input_data(train_norm,window_size)\n",
    "len(train_data)"
   ]
  },
  {
   "cell_type": "code",
   "execution_count": 88,
   "metadata": {},
   "outputs": [
    {
     "data": {
      "text/plain": [
       "(tensor([-0.9139, -0.9124, -0.9258, -0.9273, -0.9219, -0.9292, -0.9386, -0.9271,\n",
       "         -0.9318, -0.9456, -0.9099, -0.9228, -0.9372, -0.9776, -0.9568, -0.9455,\n",
       "         -0.9379, -0.9716, -1.0000, -0.9895, -0.9851, -0.9718, -1.0000, -0.9866,\n",
       "         -0.9919, -0.9838, -0.9880, -0.9740, -0.9673, -0.9555]),\n",
       " tensor([-0.9588]))"
      ]
     },
     "execution_count": 88,
     "metadata": {},
     "output_type": "execute_result"
    }
   ],
   "source": [
    "# Display the first seq/label tuple in the train data\n",
    "train_data[0]"
   ]
  },
  {
   "cell_type": "markdown",
   "metadata": {},
   "source": [
    "## 5. Define the model\n",
    "This time we'll use an LSTM layer of size (1,100)."
   ]
  },
  {
   "cell_type": "code",
   "execution_count": 89,
   "metadata": {
    "collapsed": true
   },
   "outputs": [],
   "source": [
    "class LSTMnetwork(nn.Module):\n",
    "    def __init__(self,input_size=1,hidden_size=50,output_size=1):\n",
    "        super().__init__()\n",
    "        self.hidden_size = hidden_size\n",
    "        \n",
    "        # Add an LSTM layer:\n",
    "        self.lstm = nn.LSTM(input_size,hidden_size)\n",
    "        \n",
    "        # Add a fully-connected layer:\n",
    "        self.linear = nn.Linear(hidden_size,output_size)\n",
    "        \n",
    "        # Initialize h0 and c0:\n",
    "        self.hidden = (torch.zeros(1,1,self.hidden_size),\n",
    "                       torch.zeros(1,1,self.hidden_size))\n",
    "\n",
    "    def forward(self,seq):\n",
    "        lstm_out, self.hidden = self.lstm(\n",
    "            seq.view(len(seq),1,-1), self.hidden)\n",
    "        pred = self.linear(lstm_out.view(len(seq),-1))\n",
    "        return pred[-1]  # we only want the last value"
   ]
  },
  {
   "cell_type": "markdown",
   "metadata": {},
   "source": [
    "### Instantiate the model, define loss and optimization functions"
   ]
  },
  {
   "cell_type": "code",
   "execution_count": 90,
   "metadata": {},
   "outputs": [
    {
     "data": {
      "text/plain": [
       "LSTMnetwork(\n",
       "  (lstm): LSTM(1, 50)\n",
       "  (linear): Linear(in_features=50, out_features=1, bias=True)\n",
       ")"
      ]
     },
     "execution_count": 90,
     "metadata": {},
     "output_type": "execute_result"
    }
   ],
   "source": [
    "torch.manual_seed(9999)\n",
    "model = LSTMnetwork()\n",
    "\n",
    "criterion = nn.MSELoss()\n",
    "optimizer = torch.optim.Adam(model.parameters(), lr=0.001)\n",
    "\n",
    "model"
   ]
  },
  {
   "cell_type": "code",
   "execution_count": 91,
   "metadata": {},
   "outputs": [
    {
     "name": "stdout",
     "output_type": "stream",
     "text": [
      "   200\n",
      " 10000\n",
      "   200\n",
      "   200\n",
      "    50\n",
      "     1\n",
      "______\n",
      " 10651\n"
     ]
    }
   ],
   "source": [
    "def count_parameters(model):\n",
    "    params = [p.numel() for p in model.parameters() if p.requires_grad]\n",
    "    for item in params:\n",
    "        print(f'{item:>6}')\n",
    "    print(f'______\\n{sum(params):>6}')\n",
    "    \n",
    "count_parameters(model)"
   ]
  },
  {
   "cell_type": "markdown",
   "metadata": {},
   "source": [
    "### Train the model"
   ]
  },
  {
   "cell_type": "code",
   "execution_count": 92,
   "metadata": {},
   "outputs": [
    {
     "name": "stdout",
     "output_type": "stream",
     "text": [
      "Epoch:  1 Loss: 0.00894879\n",
      "Epoch: 11 Loss: 0.00420683\n",
      "Epoch: 21 Loss: 0.00333177\n",
      "Epoch: 31 Loss: 0.00407441\n",
      "Epoch: 41 Loss: 0.00286667\n",
      "Epoch: 51 Loss: 0.00315007\n",
      "Epoch: 61 Loss: 0.00383970\n",
      "Epoch: 71 Loss: 0.00176836\n",
      "Epoch: 81 Loss: 0.00227477\n",
      "Epoch: 91 Loss: 0.00170818\n",
      "\n",
      "Duration: 624 seconds\n"
     ]
    }
   ],
   "source": [
    "epochs = 100\n",
    "\n",
    "import time\n",
    "start_time = time.time()\n",
    "\n",
    "for epoch in range(epochs):\n",
    "    \n",
    "    # extract the sequence & label from the training data\n",
    "    for seq, y_train in train_data:\n",
    "        \n",
    "        # reset the parameters and hidden states\n",
    "        optimizer.zero_grad()\n",
    "        model.hidden = (torch.zeros(1,1,model.hidden_size),\n",
    "                        torch.zeros(1,1,model.hidden_size))\n",
    "        \n",
    "        y_pred = model(seq)\n",
    "        \n",
    "        loss = criterion(y_pred, y_train)\n",
    "        loss.backward()\n",
    "        optimizer.step()\n",
    "        \n",
    "    # print training result\n",
    "    if epoch % 10 == 0:\n",
    "        print(f'Epoch: {epoch+1:2} Loss: {loss.item():10.8f}')\n",
    "    \n",
    "print(f'\\nDuration: {time.time() - start_time:.0f} seconds')"
   ]
  },
  {
   "cell_type": "markdown",
   "metadata": {},
   "source": [
    "## 6. Run predictions and compare to known test set"
   ]
  },
  {
   "cell_type": "code",
   "execution_count": 93,
   "metadata": {
    "collapsed": true
   },
   "outputs": [],
   "source": [
    "# Add the last window of training values to the list of predictions\n",
    "preds = train_norm[-window_size:].tolist()\n",
    "\n",
    "# Set the model to evaluation mode\n",
    "model.eval()\n",
    "\n",
    "for i in range(window_size):\n",
    "    seq = torch.FloatTensor(preds[-window_size:])\n",
    "    with torch.no_grad():\n",
    "        model.hidden = (torch.zeros(1,1,model.hidden_size),\n",
    "                        torch.zeros(1,1,model.hidden_size))\n",
    "        preds.append(model(seq).item())"
   ]
  },
  {
   "cell_type": "code",
   "execution_count": 94,
   "metadata": {},
   "outputs": [
    {
     "data": {
      "text/plain": [
       "[0.49067822098731995,\n",
       " 0.49780702590942383,\n",
       " 0.5119304060935974,\n",
       " 0.5304818153381348,\n",
       " 0.5533931851387024,\n",
       " 0.5811129212379456,\n",
       " 0.6149778962135315,\n",
       " 0.6565960645675659,\n",
       " 0.7076195478439331,\n",
       " 0.7694408893585205,\n",
       " 0.8419846296310425,\n",
       " 0.9179588556289673,\n",
       " 0.9785043001174927,\n",
       " 1.003296971321106,\n",
       " 0.9903753995895386,\n",
       " 0.9418329000473022,\n",
       " 0.8636660575866699,\n",
       " 0.7676870226860046,\n",
       " 0.6646732091903687,\n",
       " 0.5611786842346191,\n",
       " 0.4589924216270447,\n",
       " 0.3580727279186249,\n",
       " 0.2517089247703552,\n",
       " 0.12882208824157715,\n",
       " 0.022926054894924164,\n",
       " -0.043966375291347504,\n",
       " -0.07720848172903061,\n",
       " -0.08652184158563614,\n",
       " -0.08028160780668259,\n",
       " -0.06506527960300446]"
      ]
     },
     "execution_count": 94,
     "metadata": {},
     "output_type": "execute_result"
    }
   ],
   "source": [
    "# Display predicted values\n",
    "preds[-window_size:]    # equivalent to preds[-future:]"
   ]
  },
  {
   "cell_type": "markdown",
   "metadata": {},
   "source": [
    "### Invert the normalization\n",
    "We want to compare our test predictions to the original data, so we need to undo the previous normalization step. Note that <tt>inverse_transform</tt> uses the most recently applied parameters; we can rescale based on the test data, but not on the previous training data."
   ]
  },
  {
   "cell_type": "code",
   "execution_count": 95,
   "metadata": {},
   "outputs": [
    {
     "data": {
      "text/plain": [
       "array([[572.21021331],\n",
       "       [574.02823678],\n",
       "       [577.63005181],\n",
       "       [582.36112496],\n",
       "       [588.20409704],\n",
       "       [595.27332274],\n",
       "       [603.90973798],\n",
       "       [614.52341137],\n",
       "       [627.53567519],\n",
       "       [643.30166281],\n",
       "       [661.80213017],\n",
       "       [681.17745716],\n",
       "       [696.61805914],\n",
       "       [702.94081011],\n",
       "       [699.64548628],\n",
       "       [687.26593533],\n",
       "       [667.33143634],\n",
       "       [642.85438296],\n",
       "       [616.58328517],\n",
       "       [590.18959395],\n",
       "       [564.12954233],\n",
       "       [538.39249744],\n",
       "       [511.26706854],\n",
       "       [479.92785305],\n",
       "       [452.92171715],\n",
       "       [435.86247514],\n",
       "       [427.38490695],\n",
       "       [425.00976735],\n",
       "       [426.60118297],\n",
       "       [430.48172707]])"
      ]
     },
     "execution_count": 95,
     "metadata": {},
     "output_type": "execute_result"
    }
   ],
   "source": [
    "true_predictions = scaler.inverse_transform(np.array(preds[-window_size:]).reshape(-1, 1))\n",
    "true_predictions"
   ]
  },
  {
   "cell_type": "code",
   "execution_count": 96,
   "metadata": {},
   "outputs": [
    {
     "data": {
      "text/plain": [
       "Date\n",
       "2013-12-10    565.55\n",
       "2013-12-11    561.36\n",
       "2013-12-12    560.54\n",
       "2013-12-13    554.43\n",
       "2013-12-16    557.50\n",
       "2013-12-17    554.99\n",
       "2013-12-18    550.77\n",
       "2013-12-19    544.46\n",
       "2013-12-20    549.02\n",
       "2013-12-23    570.09\n",
       "2013-12-24    567.67\n",
       "2013-12-26    563.90\n",
       "2013-12-27    560.09\n",
       "2013-12-30    554.52\n",
       "2013-12-31    561.02\n",
       "Name: Close, dtype: float64"
      ]
     },
     "execution_count": 96,
     "metadata": {},
     "output_type": "execute_result"
    }
   ],
   "source": [
    "df['Close'][-15:]"
   ]
  },
  {
   "cell_type": "markdown",
   "metadata": {},
   "source": [
    "### Plot the results\n",
    "For plotting, we simply use the index of the original dataset."
   ]
  },
  {
   "cell_type": "code",
   "execution_count": 97,
   "metadata": {},
   "outputs": [
    {
     "data": {
      "text/plain": [
       "DatetimeIndex(['2013-12-10', '2013-12-11', '2013-12-12', '2013-12-13',\n",
       "               '2013-12-16', '2013-12-17', '2013-12-18', '2013-12-19',\n",
       "               '2013-12-20', '2013-12-23', '2013-12-24', '2013-12-26',\n",
       "               '2013-12-27', '2013-12-30', '2013-12-31'],\n",
       "              dtype='datetime64[ns]', name='Date', freq=None)"
      ]
     },
     "execution_count": 97,
     "metadata": {},
     "output_type": "execute_result"
    }
   ],
   "source": [
    "df['Close'][-15:].index"
   ]
  },
  {
   "cell_type": "code",
   "execution_count": 98,
   "metadata": {},
   "outputs": [],
   "source": [
    "x = df['Close'][-window_size:].index"
   ]
  },
  {
   "cell_type": "code",
   "execution_count": 99,
   "metadata": {},
   "outputs": [
    {
     "data": {
      "image/png": "[encoded data removed]",
      "text/plain": [
       "<Figure size 864x288 with 1 Axes>"
      ]
     },
     "metadata": {
      "needs_background": "light"
     },
     "output_type": "display_data"
    }
   ],
   "source": [
    "plt.figure(figsize=(12,4))\n",
    "plt.title('Apple Stock Prices')\n",
    "plt.ylabel('Prices')\n",
    "plt.grid(True)\n",
    "plt.autoscale(axis='x',tight=True)\n",
    "plt.plot(df['Close'])\n",
    "plt.plot(x,true_predictions)\n",
    "plt.show()"
   ]
  },
  {
   "cell_type": "code",
   "execution_count": 100,
   "metadata": {},
   "outputs": [
    {
     "data": {
      "image/png": "[encoded data removed]",
      "text/plain": [
       "<Figure size 864x288 with 1 Axes>"
      ]
     },
     "metadata": {
      "needs_background": "light"
     },
     "output_type": "display_data"
    }
   ],
   "source": [
    "# Plot the end of the graph\n",
    "fig = plt.figure(figsize=(12,4))\n",
    "plt.title('Apple Stock Prices')\n",
    "plt.ylabel('Prices')\n",
    "plt.grid(True)\n",
    "plt.autoscale(axis='x',tight=True)\n",
    "fig.autofmt_xdate()\n",
    "\n",
    "# Select the end of the graph with slice notation:\n",
    "plt.plot(df['Close']['2013-01-01':])\n",
    "plt.plot(x,true_predictions)\n",
    "plt.show()"
   ]
  }
 ],
 "metadata": {
  "kernelspec": {
   "display_name": "Python 3.10.4 64-bit",
   "language": "python",
   "name": "python3"
  },
  "language_info": {
   "codemirror_mode": {
    "name": "ipython",
    "version": 3
   },
   "file_extension": ".py",
   "mimetype": "text/x-python",
   "name": "python",
   "nbconvert_exporter": "python",
   "pygments_lexer": "ipython3",
   "version": "3.10.4"
  },
  "orig_nbformat": 4,
  "vscode": {
   "interpreter": {
    "hash": "c81d839d3c4227cd770621df97fe8191838af02e7eef185a922d8250cb33d344"
   }
  }
 },
 "nbformat": 4,
 "nbformat_minor": 2
}
