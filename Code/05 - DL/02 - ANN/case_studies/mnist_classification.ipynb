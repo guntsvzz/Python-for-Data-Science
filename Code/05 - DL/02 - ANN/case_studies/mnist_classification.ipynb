{
 "cells": [
  {
   "cell_type": "markdown",
   "metadata": {},
   "source": [
    "# Programming for Data Science and Artificial Intelligence\n",
    "\n",
    "## MNIST with ANN\n",
    "\n",
    "Let's model the <a href='https://en.wikipedia.org/wiki/MNIST_database'>MNIST dataset</a> using only linear layers.\n",
    "\n",
    "We'll reshape the MNIST data from a 28x28 image to a flattened 1x784 vector to mimic a single row of 784 features."
   ]
  },
  {
   "cell_type": "code",
   "execution_count": 1,
   "metadata": {},
   "outputs": [],
   "source": [
    "import torch\n",
    "import torch.nn as nn\n",
    "import torch.nn.functional as F          # adds some efficiency\n",
    "from torch.utils.data import DataLoader  # lets us load data in batches\n",
    "from torchvision import datasets, transforms\n",
    "\n",
    "import numpy as np\n",
    "import pandas as pd\n",
    "from sklearn.metrics import confusion_matrix  # for evaluating results\n",
    "import matplotlib.pyplot as plt\n",
    "%matplotlib inline"
   ]
  },
  {
   "cell_type": "markdown",
   "metadata": {},
   "source": [
    "## 1. ETL: Load the MNIST dataset\n",
    "PyTorch makes the MNIST dataset available through <a href='https://pytorch.org/docs/stable/torchvision/index.html'><tt><strong>torchvision</strong></tt></a>. \n",
    "\n",
    "The first time it's called, the dataset will be downloaded onto your computer to the path specified. From that point, torchvision will always look for a local copy before attempting another download.\n",
    "\n",
    "### Define transform\n",
    "As part of the loading process, we can apply multiple transformations (reshape, convert to tensor, normalize, etc.) to the incoming data.\n",
    "\n",
    "For this exercise we only need to convert images to tensors. "
   ]
  },
  {
   "cell_type": "code",
   "execution_count": 2,
   "metadata": {},
   "outputs": [],
   "source": [
    "transform = transforms.ToTensor()"
   ]
  },
  {
   "cell_type": "markdown",
   "metadata": {},
   "source": [
    "### Load the training set"
   ]
  },
  {
   "cell_type": "code",
   "execution_count": 3,
   "metadata": {},
   "outputs": [
    {
     "data": {
      "text/plain": [
       "Dataset MNIST\n",
       "    Number of datapoints: 60000\n",
       "    Root location: ../data\n",
       "    Split: Train\n",
       "    StandardTransform\n",
       "Transform: ToTensor()"
      ]
     },
     "execution_count": 3,
     "metadata": {},
     "output_type": "execute_result"
    }
   ],
   "source": [
    "train_data = datasets.MNIST(root='../data', train=True, download=True, transform=transform)\n",
    "train_data"
   ]
  },
  {
   "cell_type": "markdown",
   "metadata": {},
   "source": [
    "### Load the test set\n",
    "There's a companion set of MNIST data containing 10,000 records accessible by setting train=False. As before, torchvision will only download this once, and in the future will look for the local copy."
   ]
  },
  {
   "cell_type": "code",
   "execution_count": 4,
   "metadata": {},
   "outputs": [
    {
     "data": {
      "text/plain": [
       "Dataset MNIST\n",
       "    Number of datapoints: 10000\n",
       "    Root location: ../data\n",
       "    Split: Test\n",
       "    StandardTransform\n",
       "Transform: ToTensor()"
      ]
     },
     "execution_count": 4,
     "metadata": {},
     "output_type": "execute_result"
    }
   ],
   "source": [
    "test_data = datasets.MNIST(root='../data', train=False, download=True, transform=transform)\n",
    "test_data"
   ]
  },
  {
   "cell_type": "code",
   "execution_count": 5,
   "metadata": {},
   "outputs": [
    {
     "data": {
      "text/plain": [
       "<module 'torchvision.datasets' from '/Users/chaklam/DSAI/Environments/teaching_env/lib/python3.8/site-packages/torchvision/datasets/__init__.py'>"
      ]
     },
     "execution_count": 5,
     "metadata": {},
     "output_type": "execute_result"
    }
   ],
   "source": [
    "datasets"
   ]
  },
  {
   "cell_type": "code",
   "execution_count": 6,
   "metadata": {
    "scrolled": true
   },
   "outputs": [
    {
     "data": {
      "text/plain": [
       "torchvision.datasets.mnist.MNIST"
      ]
     },
     "execution_count": 6,
     "metadata": {},
     "output_type": "execute_result"
    }
   ],
   "source": [
    "type(test_data)"
   ]
  },
  {
   "cell_type": "markdown",
   "metadata": {},
   "source": [
    "### Examine a training record"
   ]
  },
  {
   "cell_type": "code",
   "execution_count": 7,
   "metadata": {
    "scrolled": false
   },
   "outputs": [
    {
     "data": {
      "text/plain": [
       "tuple"
      ]
     },
     "execution_count": 7,
     "metadata": {},
     "output_type": "execute_result"
    }
   ],
   "source": [
    "type(train_data[0])"
   ]
  },
  {
   "cell_type": "code",
   "execution_count": 8,
   "metadata": {},
   "outputs": [
    {
     "data": {
      "text/plain": [
       "2"
      ]
     },
     "execution_count": 8,
     "metadata": {},
     "output_type": "execute_result"
    }
   ],
   "source": [
    "len(train_data[0])"
   ]
  },
  {
   "cell_type": "code",
   "execution_count": 9,
   "metadata": {},
   "outputs": [
    {
     "data": {
      "text/plain": [
       "(tensor([[[0.0000, 0.0000, 0.0000, 0.0000, 0.0000, 0.0000, 0.0000, 0.0000,\n",
       "           0.0000, 0.0000, 0.0000, 0.0000, 0.0000, 0.0000, 0.0000, 0.0000,\n",
       "           0.0000, 0.0000, 0.0000, 0.0000, 0.0000, 0.0000, 0.0000, 0.0000,\n",
       "           0.0000, 0.0000, 0.0000, 0.0000],\n",
       "          [0.0000, 0.0000, 0.0000, 0.0000, 0.0000, 0.0000, 0.0000, 0.0000,\n",
       "           0.0000, 0.0000, 0.0000, 0.0000, 0.0000, 0.0000, 0.0000, 0.0000,\n",
       "           0.0000, 0.0000, 0.0000, 0.0000, 0.0000, 0.0000, 0.0000, 0.0000,\n",
       "           0.0000, 0.0000, 0.0000, 0.0000],\n",
       "          [0.0000, 0.0000, 0.0000, 0.0000, 0.0000, 0.0000, 0.0000, 0.0000,\n",
       "           0.0000, 0.0000, 0.0000, 0.0000, 0.0000, 0.0000, 0.0000, 0.0000,\n",
       "           0.0000, 0.0000, 0.0000, 0.0000, 0.0000, 0.0000, 0.0000, 0.0000,\n",
       "           0.0000, 0.0000, 0.0000, 0.0000],\n",
       "          [0.0000, 0.0000, 0.0000, 0.0000, 0.0000, 0.0000, 0.0000, 0.0000,\n",
       "           0.0000, 0.0000, 0.0000, 0.0000, 0.0000, 0.0000, 0.0000, 0.0000,\n",
       "           0.0000, 0.0000, 0.0000, 0.0000, 0.0000, 0.0000, 0.0000, 0.0000,\n",
       "           0.0000, 0.0000, 0.0000, 0.0000],\n",
       "          [0.0000, 0.0000, 0.0000, 0.0000, 0.0000, 0.0000, 0.0000, 0.0000,\n",
       "           0.0000, 0.0000, 0.0000, 0.0000, 0.0000, 0.0000, 0.0000, 0.0000,\n",
       "           0.0000, 0.0000, 0.0000, 0.0000, 0.0000, 0.0000, 0.0000, 0.0000,\n",
       "           0.0000, 0.0000, 0.0000, 0.0000],\n",
       "          [0.0000, 0.0000, 0.0000, 0.0000, 0.0000, 0.0000, 0.0000, 0.0000,\n",
       "           0.0000, 0.0000, 0.0000, 0.0000, 0.0118, 0.0706, 0.0706, 0.0706,\n",
       "           0.4941, 0.5333, 0.6863, 0.1020, 0.6510, 1.0000, 0.9686, 0.4980,\n",
       "           0.0000, 0.0000, 0.0000, 0.0000],\n",
       "          [0.0000, 0.0000, 0.0000, 0.0000, 0.0000, 0.0000, 0.0000, 0.0000,\n",
       "           0.1176, 0.1412, 0.3686, 0.6039, 0.6667, 0.9922, 0.9922, 0.9922,\n",
       "           0.9922, 0.9922, 0.8824, 0.6745, 0.9922, 0.9490, 0.7647, 0.2510,\n",
       "           0.0000, 0.0000, 0.0000, 0.0000],\n",
       "          [0.0000, 0.0000, 0.0000, 0.0000, 0.0000, 0.0000, 0.0000, 0.1922,\n",
       "           0.9333, 0.9922, 0.9922, 0.9922, 0.9922, 0.9922, 0.9922, 0.9922,\n",
       "           0.9922, 0.9843, 0.3647, 0.3216, 0.3216, 0.2196, 0.1529, 0.0000,\n",
       "           0.0000, 0.0000, 0.0000, 0.0000],\n",
       "          [0.0000, 0.0000, 0.0000, 0.0000, 0.0000, 0.0000, 0.0000, 0.0706,\n",
       "           0.8588, 0.9922, 0.9922, 0.9922, 0.9922, 0.9922, 0.7765, 0.7137,\n",
       "           0.9686, 0.9451, 0.0000, 0.0000, 0.0000, 0.0000, 0.0000, 0.0000,\n",
       "           0.0000, 0.0000, 0.0000, 0.0000],\n",
       "          [0.0000, 0.0000, 0.0000, 0.0000, 0.0000, 0.0000, 0.0000, 0.0000,\n",
       "           0.3137, 0.6118, 0.4196, 0.9922, 0.9922, 0.8039, 0.0431, 0.0000,\n",
       "           0.1686, 0.6039, 0.0000, 0.0000, 0.0000, 0.0000, 0.0000, 0.0000,\n",
       "           0.0000, 0.0000, 0.0000, 0.0000],\n",
       "          [0.0000, 0.0000, 0.0000, 0.0000, 0.0000, 0.0000, 0.0000, 0.0000,\n",
       "           0.0000, 0.0549, 0.0039, 0.6039, 0.9922, 0.3529, 0.0000, 0.0000,\n",
       "           0.0000, 0.0000, 0.0000, 0.0000, 0.0000, 0.0000, 0.0000, 0.0000,\n",
       "           0.0000, 0.0000, 0.0000, 0.0000],\n",
       "          [0.0000, 0.0000, 0.0000, 0.0000, 0.0000, 0.0000, 0.0000, 0.0000,\n",
       "           0.0000, 0.0000, 0.0000, 0.5451, 0.9922, 0.7451, 0.0078, 0.0000,\n",
       "           0.0000, 0.0000, 0.0000, 0.0000, 0.0000, 0.0000, 0.0000, 0.0000,\n",
       "           0.0000, 0.0000, 0.0000, 0.0000],\n",
       "          [0.0000, 0.0000, 0.0000, 0.0000, 0.0000, 0.0000, 0.0000, 0.0000,\n",
       "           0.0000, 0.0000, 0.0000, 0.0431, 0.7451, 0.9922, 0.2745, 0.0000,\n",
       "           0.0000, 0.0000, 0.0000, 0.0000, 0.0000, 0.0000, 0.0000, 0.0000,\n",
       "           0.0000, 0.0000, 0.0000, 0.0000],\n",
       "          [0.0000, 0.0000, 0.0000, 0.0000, 0.0000, 0.0000, 0.0000, 0.0000,\n",
       "           0.0000, 0.0000, 0.0000, 0.0000, 0.1373, 0.9451, 0.8824, 0.6275,\n",
       "           0.4235, 0.0039, 0.0000, 0.0000, 0.0000, 0.0000, 0.0000, 0.0000,\n",
       "           0.0000, 0.0000, 0.0000, 0.0000],\n",
       "          [0.0000, 0.0000, 0.0000, 0.0000, 0.0000, 0.0000, 0.0000, 0.0000,\n",
       "           0.0000, 0.0000, 0.0000, 0.0000, 0.0000, 0.3176, 0.9412, 0.9922,\n",
       "           0.9922, 0.4667, 0.0980, 0.0000, 0.0000, 0.0000, 0.0000, 0.0000,\n",
       "           0.0000, 0.0000, 0.0000, 0.0000],\n",
       "          [0.0000, 0.0000, 0.0000, 0.0000, 0.0000, 0.0000, 0.0000, 0.0000,\n",
       "           0.0000, 0.0000, 0.0000, 0.0000, 0.0000, 0.0000, 0.1765, 0.7294,\n",
       "           0.9922, 0.9922, 0.5882, 0.1059, 0.0000, 0.0000, 0.0000, 0.0000,\n",
       "           0.0000, 0.0000, 0.0000, 0.0000],\n",
       "          [0.0000, 0.0000, 0.0000, 0.0000, 0.0000, 0.0000, 0.0000, 0.0000,\n",
       "           0.0000, 0.0000, 0.0000, 0.0000, 0.0000, 0.0000, 0.0000, 0.0627,\n",
       "           0.3647, 0.9882, 0.9922, 0.7333, 0.0000, 0.0000, 0.0000, 0.0000,\n",
       "           0.0000, 0.0000, 0.0000, 0.0000],\n",
       "          [0.0000, 0.0000, 0.0000, 0.0000, 0.0000, 0.0000, 0.0000, 0.0000,\n",
       "           0.0000, 0.0000, 0.0000, 0.0000, 0.0000, 0.0000, 0.0000, 0.0000,\n",
       "           0.0000, 0.9765, 0.9922, 0.9765, 0.2510, 0.0000, 0.0000, 0.0000,\n",
       "           0.0000, 0.0000, 0.0000, 0.0000],\n",
       "          [0.0000, 0.0000, 0.0000, 0.0000, 0.0000, 0.0000, 0.0000, 0.0000,\n",
       "           0.0000, 0.0000, 0.0000, 0.0000, 0.0000, 0.0000, 0.1804, 0.5098,\n",
       "           0.7176, 0.9922, 0.9922, 0.8118, 0.0078, 0.0000, 0.0000, 0.0000,\n",
       "           0.0000, 0.0000, 0.0000, 0.0000],\n",
       "          [0.0000, 0.0000, 0.0000, 0.0000, 0.0000, 0.0000, 0.0000, 0.0000,\n",
       "           0.0000, 0.0000, 0.0000, 0.0000, 0.1529, 0.5804, 0.8980, 0.9922,\n",
       "           0.9922, 0.9922, 0.9804, 0.7137, 0.0000, 0.0000, 0.0000, 0.0000,\n",
       "           0.0000, 0.0000, 0.0000, 0.0000],\n",
       "          [0.0000, 0.0000, 0.0000, 0.0000, 0.0000, 0.0000, 0.0000, 0.0000,\n",
       "           0.0000, 0.0000, 0.0941, 0.4471, 0.8667, 0.9922, 0.9922, 0.9922,\n",
       "           0.9922, 0.7882, 0.3059, 0.0000, 0.0000, 0.0000, 0.0000, 0.0000,\n",
       "           0.0000, 0.0000, 0.0000, 0.0000],\n",
       "          [0.0000, 0.0000, 0.0000, 0.0000, 0.0000, 0.0000, 0.0000, 0.0000,\n",
       "           0.0902, 0.2588, 0.8353, 0.9922, 0.9922, 0.9922, 0.9922, 0.7765,\n",
       "           0.3176, 0.0078, 0.0000, 0.0000, 0.0000, 0.0000, 0.0000, 0.0000,\n",
       "           0.0000, 0.0000, 0.0000, 0.0000],\n",
       "          [0.0000, 0.0000, 0.0000, 0.0000, 0.0000, 0.0000, 0.0706, 0.6706,\n",
       "           0.8588, 0.9922, 0.9922, 0.9922, 0.9922, 0.7647, 0.3137, 0.0353,\n",
       "           0.0000, 0.0000, 0.0000, 0.0000, 0.0000, 0.0000, 0.0000, 0.0000,\n",
       "           0.0000, 0.0000, 0.0000, 0.0000],\n",
       "          [0.0000, 0.0000, 0.0000, 0.0000, 0.2157, 0.6745, 0.8863, 0.9922,\n",
       "           0.9922, 0.9922, 0.9922, 0.9569, 0.5216, 0.0431, 0.0000, 0.0000,\n",
       "           0.0000, 0.0000, 0.0000, 0.0000, 0.0000, 0.0000, 0.0000, 0.0000,\n",
       "           0.0000, 0.0000, 0.0000, 0.0000],\n",
       "          [0.0000, 0.0000, 0.0000, 0.0000, 0.5333, 0.9922, 0.9922, 0.9922,\n",
       "           0.8314, 0.5294, 0.5176, 0.0627, 0.0000, 0.0000, 0.0000, 0.0000,\n",
       "           0.0000, 0.0000, 0.0000, 0.0000, 0.0000, 0.0000, 0.0000, 0.0000,\n",
       "           0.0000, 0.0000, 0.0000, 0.0000],\n",
       "          [0.0000, 0.0000, 0.0000, 0.0000, 0.0000, 0.0000, 0.0000, 0.0000,\n",
       "           0.0000, 0.0000, 0.0000, 0.0000, 0.0000, 0.0000, 0.0000, 0.0000,\n",
       "           0.0000, 0.0000, 0.0000, 0.0000, 0.0000, 0.0000, 0.0000, 0.0000,\n",
       "           0.0000, 0.0000, 0.0000, 0.0000],\n",
       "          [0.0000, 0.0000, 0.0000, 0.0000, 0.0000, 0.0000, 0.0000, 0.0000,\n",
       "           0.0000, 0.0000, 0.0000, 0.0000, 0.0000, 0.0000, 0.0000, 0.0000,\n",
       "           0.0000, 0.0000, 0.0000, 0.0000, 0.0000, 0.0000, 0.0000, 0.0000,\n",
       "           0.0000, 0.0000, 0.0000, 0.0000],\n",
       "          [0.0000, 0.0000, 0.0000, 0.0000, 0.0000, 0.0000, 0.0000, 0.0000,\n",
       "           0.0000, 0.0000, 0.0000, 0.0000, 0.0000, 0.0000, 0.0000, 0.0000,\n",
       "           0.0000, 0.0000, 0.0000, 0.0000, 0.0000, 0.0000, 0.0000, 0.0000,\n",
       "           0.0000, 0.0000, 0.0000, 0.0000]]]),\n",
       " 5)"
      ]
     },
     "execution_count": 9,
     "metadata": {},
     "output_type": "execute_result"
    }
   ],
   "source": [
    "train_data[0]"
   ]
  },
  {
   "cell_type": "code",
   "execution_count": 10,
   "metadata": {},
   "outputs": [
    {
     "data": {
      "text/plain": [
       "torch.Tensor"
      ]
     },
     "execution_count": 10,
     "metadata": {},
     "output_type": "execute_result"
    }
   ],
   "source": [
    "type(train_data[0][0])"
   ]
  },
  {
   "cell_type": "code",
   "execution_count": 11,
   "metadata": {},
   "outputs": [
    {
     "data": {
      "text/plain": [
       "torch.Size([1, 28, 28])"
      ]
     },
     "execution_count": 11,
     "metadata": {},
     "output_type": "execute_result"
    }
   ],
   "source": [
    "train_data[0][0].size()"
   ]
  },
  {
   "cell_type": "markdown",
   "metadata": {},
   "source": [
    "Calling the first record from <tt>train_data</tt> returns a two-item tuple. The first item is our 28x28 tensor representing the image. The second is a label, in this case the number \"5\"."
   ]
  },
  {
   "cell_type": "code",
   "execution_count": 12,
   "metadata": {},
   "outputs": [
    {
     "name": "stdout",
     "output_type": "stream",
     "text": [
      "Shape: torch.Size([1, 28, 28]) \n",
      "Label: 5\n"
     ]
    }
   ],
   "source": [
    "image, label = train_data[0]\n",
    "print('Shape:', image.shape, '\\nLabel:', label)"
   ]
  },
  {
   "cell_type": "markdown",
   "metadata": {},
   "source": [
    "### View the image\n",
    "\n",
    "Matplotlib can interpret pixel values through a variety of <a href='https://matplotlib.org/tutorials/colors/colormaps.html'>colormaps</a>."
   ]
  },
  {
   "cell_type": "code",
   "execution_count": 13,
   "metadata": {},
   "outputs": [
    {
     "data": {
      "image/png": "[encoded data removed]",
      "text/plain": [
       "<Figure size 432x288 with 1 Axes>"
      ]
     },
     "metadata": {
      "needs_background": "light"
     },
     "output_type": "display_data"
    }
   ],
   "source": [
    "plt.imshow(train_data[0][0].reshape((28,28)), cmap=\"gray\");"
   ]
  },
  {
   "cell_type": "code",
   "execution_count": 14,
   "metadata": {},
   "outputs": [
    {
     "data": {
      "image/png": "[encoded data removed]",
      "text/plain": [
       "<Figure size 432x288 with 1 Axes>"
      ]
     },
     "metadata": {
      "needs_background": "light"
     },
     "output_type": "display_data"
    }
   ],
   "source": [
    "plt.imshow(train_data[0][0].reshape((28,28)), cmap=\"gist_yarg\");"
   ]
  },
  {
   "cell_type": "code",
   "execution_count": 15,
   "metadata": {},
   "outputs": [
    {
     "data": {
      "image/png": "[encoded data removed]",
      "text/plain": [
       "<Figure size 432x288 with 1 Axes>"
      ]
     },
     "metadata": {
      "needs_background": "light"
     },
     "output_type": "display_data"
    }
   ],
   "source": [
    "plt.imshow(train_data[0][0].reshape((28,28)));"
   ]
  },
  {
   "cell_type": "markdown",
   "metadata": {},
   "source": [
    "## 2. Feature Extraction\n",
    "\n",
    "### Batch loading with DataLoader\n",
    "Our training set contains 60,000 records. If we look ahead to our model we have 784 incoming features, hidden layers of 120 and 84 neurons, and 10 output features. Including the bias terms for each layer, the total number of parameters being trained is:<br>\n",
    "\n",
    "$\\begin{align}\\quad(784\\times120)+120+(120\\times84)+84+(84\\times10)+10 &=\\\\\n",
    "94080+120+10080+84+840+10 &= 105,214\\end{align}$<br>\n",
    "\n",
    "For this reason it makes sense to load training data in batches using <a href='https://pytorch.org/docs/stable/data.html#torch.utils.data.DataLoader'><tt><strong>DataLoader</strong></tt></a>."
   ]
  },
  {
   "cell_type": "code",
   "execution_count": 16,
   "metadata": {},
   "outputs": [],
   "source": [
    "torch.manual_seed(101)  # for consistent results\n",
    "\n",
    "train_loader = DataLoader(train_data, batch_size=100, shuffle=True)\n",
    "test_loader  = DataLoader(test_data, batch_size=500, shuffle=False)"
   ]
  },
  {
   "cell_type": "markdown",
   "metadata": {},
   "source": [
    "In the cell above, <tt><strong>train_data</strong></tt> is a PyTorch <a href='https://pytorch.org/docs/stable/data.html#torch.utils.data.Dataset'><em>Dataset</em></a> object (an object that supports data loading and sampling).<br>\n",
    "The <tt><strong>batch_size</strong></tt> is the number of records to be processed at a time. If it's not evenly divisible into the dataset, then the final batch contains the remainder.<br>\n",
    "Setting <tt><strong>shuffle</strong></tt> to True means that the dataset will be shuffled after each epoch.\n",
    "\n",
    "<div class=\"alert alert-info\"><strong>NOTE:</strong> DataLoader takes an optional <tt><strong>num_workers</strong></tt> parameter that sets up how many subprocesses to use for data loading. This behaves differently with different operating systems so we've omitted it here. See <a href='https://pytorch.org/docs/stable/data.html#torch.utils.data.DataLoader'>the docs</a> for more information.</div>"
   ]
  },
  {
   "cell_type": "code",
   "execution_count": 17,
   "metadata": {},
   "outputs": [
    {
     "data": {
      "text/plain": [
       "torch.utils.data.dataloader.DataLoader"
      ]
     },
     "execution_count": 17,
     "metadata": {},
     "output_type": "execute_result"
    }
   ],
   "source": [
    "type(train_loader)"
   ]
  },
  {
   "cell_type": "code",
   "execution_count": 18,
   "metadata": {},
   "outputs": [
    {
     "data": {
      "text/plain": [
       "600"
      ]
     },
     "execution_count": 18,
     "metadata": {},
     "output_type": "execute_result"
    }
   ],
   "source": [
    "len(train_loader)"
   ]
  },
  {
   "cell_type": "code",
   "execution_count": 19,
   "metadata": {},
   "outputs": [
    {
     "data": {
      "text/plain": [
       "torchvision.datasets.mnist.MNIST"
      ]
     },
     "execution_count": 19,
     "metadata": {},
     "output_type": "execute_result"
    }
   ],
   "source": [
    "type(train_data)"
   ]
  },
  {
   "cell_type": "code",
   "execution_count": 20,
   "metadata": {},
   "outputs": [
    {
     "data": {
      "text/plain": [
       "Dataset MNIST\n",
       "    Number of datapoints: 60000\n",
       "    Root location: ../data\n",
       "    Split: Train\n",
       "    StandardTransform\n",
       "Transform: ToTensor()"
      ]
     },
     "execution_count": 20,
     "metadata": {},
     "output_type": "execute_result"
    }
   ],
   "source": [
    "train_data"
   ]
  },
  {
   "cell_type": "markdown",
   "metadata": {},
   "source": [
    "### View a batch of images\n",
    "Once we've defined a DataLoader, we can create a grid of images using <a href='https://pytorch.org/docs/stable/torchvision/utils.html#torchvision.utils.make_grid'><tt><strong>torchvision.utils.make_grid</strong></tt></a>"
   ]
  },
  {
   "cell_type": "code",
   "execution_count": 21,
   "metadata": {},
   "outputs": [
    {
     "name": "stdout",
     "output_type": "stream",
     "text": [
      "Labels:  [   7    2    3    5    8    5    3    6    9    9    1    3]\n"
     ]
    },
    {
     "data": {
      "image/png": "[encoded data removed]",
      "text/plain": [
       "<Figure size 1152x576 with 1 Axes>"
      ]
     },
     "metadata": {
      "needs_background": "light"
     },
     "output_type": "display_data"
    }
   ],
   "source": [
    "from torchvision.utils import make_grid\n",
    "np.set_printoptions(formatter=dict(int=lambda x: f'{x:4}')) # to widen the printed array\n",
    "\n",
    "# Grab the first batch of images\n",
    "for images,labels in train_loader: \n",
    "    break\n",
    "\n",
    "# Print the first 12 labels\n",
    "print('Labels: ', labels[:12].numpy())\n",
    "\n",
    "# Print the first 12 images\n",
    "im = make_grid(images[:12], nrow=12)  # the default nrow is 8\n",
    "plt.figure(figsize=(16,8))\n",
    "# We need to transpose the images from CWH to WHC\n",
    "# C - color chanel\n",
    "# W - width\n",
    "# H - height\n",
    "plt.imshow(np.transpose(im.numpy(), (1, 2, 0)));"
   ]
  },
  {
   "cell_type": "code",
   "execution_count": 22,
   "metadata": {},
   "outputs": [
    {
     "data": {
      "text/plain": [
       "tensor([7, 2, 3, 5, 8, 5, 3, 6, 9, 9, 1, 3, 5, 5, 4, 5, 4, 1, 0, 4, 5, 4, 5, 4,\n",
       "        0, 5, 8, 2, 2, 3, 3, 7, 2, 8, 1, 2, 3, 1, 7, 9, 0, 4, 9, 1, 7, 9, 7, 2,\n",
       "        6, 5, 5, 8, 5, 0, 4, 0, 0, 4, 9, 2, 6, 0, 8, 4, 1, 8, 5, 2, 0, 3, 3, 4,\n",
       "        6, 1, 5, 3, 5, 9, 0, 7, 4, 5, 3, 6, 6, 4, 5, 3, 9, 7, 1, 7, 6, 7, 9, 3,\n",
       "        5, 9, 9, 6])"
      ]
     },
     "execution_count": 22,
     "metadata": {},
     "output_type": "execute_result"
    }
   ],
   "source": [
    "labels"
   ]
  },
  {
   "cell_type": "code",
   "execution_count": 23,
   "metadata": {},
   "outputs": [
    {
     "data": {
      "text/plain": [
       "torch.Tensor"
      ]
     },
     "execution_count": 23,
     "metadata": {},
     "output_type": "execute_result"
    }
   ],
   "source": [
    "type(images)"
   ]
  },
  {
   "cell_type": "markdown",
   "metadata": {},
   "source": [
    "## 4. Training / Modeling\n",
    "\n",
    "Our input size is 784 once we flatten the incoming 28x28 tensors.\n",
    "\n",
    "Our output size represents the 10 possible digits.\n",
    "\n",
    "We'll set our hidden layers to [120, 84] for now.  You can try any number...."
   ]
  },
  {
   "cell_type": "code",
   "execution_count": 24,
   "metadata": {},
   "outputs": [],
   "source": [
    "class MultilayerPerceptron(nn.Module):\n",
    "    def __init__(self, in_sz=784, out_sz=10, layers=[120,84]):\n",
    "        super().__init__()\n",
    "        self.fc1 = nn.Linear(in_sz,layers[0])\n",
    "        self.fc2 = nn.Linear(layers[0],layers[1])\n",
    "        self.fc3 = nn.Linear(layers[1],out_sz)\n",
    "    \n",
    "    def forward(self,X):\n",
    "        X = F.relu(self.fc1(X))\n",
    "        X = F.relu(self.fc2(X))\n",
    "        X = self.fc3(X)\n",
    "        return F.log_softmax(X, dim=1) #multi class classification\n",
    "    # dim (int) – A dimension along which Softmax will be computed (so every slice along dim will sum to 1)."
   ]
  },
  {
   "cell_type": "code",
   "execution_count": 25,
   "metadata": {},
   "outputs": [
    {
     "data": {
      "text/plain": [
       "MultilayerPerceptron(\n",
       "  (fc1): Linear(in_features=784, out_features=120, bias=True)\n",
       "  (fc2): Linear(in_features=120, out_features=84, bias=True)\n",
       "  (fc3): Linear(in_features=84, out_features=10, bias=True)\n",
       ")"
      ]
     },
     "execution_count": 25,
     "metadata": {},
     "output_type": "execute_result"
    }
   ],
   "source": [
    "torch.manual_seed(101)\n",
    "model = MultilayerPerceptron()\n",
    "model"
   ]
  },
  {
   "cell_type": "code",
   "execution_count": 26,
   "metadata": {},
   "outputs": [
    {
     "data": {
      "text/plain": [
       "__main__.MultilayerPerceptron"
      ]
     },
     "execution_count": 26,
     "metadata": {},
     "output_type": "execute_result"
    }
   ],
   "source": [
    "type(model)"
   ]
  },
  {
   "cell_type": "markdown",
   "metadata": {},
   "source": [
    "<div class=\"alert alert-info\"><strong>NOTE:</strong> You may have noticed our shortcut for adding ReLU to the linear layer. In the last section this was done under the <tt>__init__</tt> section as\n",
    "<pre style='background-color:rgb(217,237,247)'>\n",
    "layerlist = []\n",
    "for i in layers:\n",
    "    layerlist.append(nn.Linear(n_in,i)) \n",
    "    layerlist.append(nn.ReLU(inplace=True))\n",
    "self.layers = nn.Sequential(*layerlist)</pre>\n",
    "    \n",
    "Here we're calling <tt>F.relu()</tt> as a functional wrapper on the linear layer directly:\n",
    "<pre style='background-color:rgb(217,237,247)'>\n",
    "def forward(self,X):\n",
    "    X = F.relu(self.fc1(X))</pre></div>"
   ]
  },
  {
   "cell_type": "markdown",
   "metadata": {},
   "source": [
    "### Count the model parameters\n",
    "This optional step shows that the number of trainable parameters in our model matches the equation above."
   ]
  },
  {
   "cell_type": "code",
   "execution_count": 27,
   "metadata": {},
   "outputs": [],
   "source": [
    "def count_parameters(model):\n",
    "    params = [p.numel() for p in model.parameters() if p.requires_grad]\n",
    "    for item in params:\n",
    "        print(f'{item:>6}')\n",
    "    print(f'______\\n{sum(params):>6}')"
   ]
  },
  {
   "cell_type": "code",
   "execution_count": 28,
   "metadata": {},
   "outputs": [
    {
     "name": "stdout",
     "output_type": "stream",
     "text": [
      " 94080\n",
      "   120\n",
      " 10080\n",
      "    84\n",
      "   840\n",
      "    10\n",
      "______\n",
      "105214\n"
     ]
    }
   ],
   "source": [
    "count_parameters(model)"
   ]
  },
  {
   "cell_type": "code",
   "execution_count": 29,
   "metadata": {},
   "outputs": [
    {
     "name": "stdout",
     "output_type": "stream",
     "text": [
      "94080\n",
      "120\n",
      "10080\n",
      "84\n",
      "840\n",
      "10\n"
     ]
    }
   ],
   "source": [
    "for param in model.parameters():\n",
    "    print(param.numel())"
   ]
  },
  {
   "cell_type": "markdown",
   "metadata": {},
   "source": [
    "### Define loss function & optimizer"
   ]
  },
  {
   "cell_type": "code",
   "execution_count": 30,
   "metadata": {},
   "outputs": [],
   "source": [
    "criterion = nn.CrossEntropyLoss()\n",
    "optimizer = torch.optim.Adam(model.parameters(), lr=0.001)"
   ]
  },
  {
   "cell_type": "markdown",
   "metadata": {},
   "source": [
    "### Flatten the training data\n",
    "The batch tensors fed in by DataLoader have a shape of [100, 1, 28, 28]:"
   ]
  },
  {
   "cell_type": "code",
   "execution_count": 31,
   "metadata": {},
   "outputs": [
    {
     "name": "stdout",
     "output_type": "stream",
     "text": [
      "Batch shape: torch.Size([100, 1, 28, 28])\n"
     ]
    }
   ],
   "source": [
    "# Load the first batch, print its shape\n",
    "for images, labels in train_loader:\n",
    "    print('Batch shape:', images.size())\n",
    "    break\n",
    "    \n",
    "# EQUIVALENT TO:\n",
    "# dataiter = iter(train_loader)\n",
    "# images, labels = dataiter.next()\n",
    "# print('Batch shape:', images.size())"
   ]
  },
  {
   "cell_type": "markdown",
   "metadata": {},
   "source": [
    "We can flatten them using <tt>.view()</tt>"
   ]
  },
  {
   "cell_type": "code",
   "execution_count": 32,
   "metadata": {},
   "outputs": [
    {
     "data": {
      "text/plain": [
       "torch.Size([100, 784])"
      ]
     },
     "execution_count": 32,
     "metadata": {},
     "output_type": "execute_result"
    }
   ],
   "source": [
    "images.view(100,-1).size()"
   ]
  },
  {
   "cell_type": "markdown",
   "metadata": {},
   "source": [
    "We'll do this just before applying the model to our data."
   ]
  },
  {
   "cell_type": "markdown",
   "metadata": {},
   "source": [
    "## Train the model\n",
    "This time we'll run the test data through the model during each epoch, so that we can compare loss & accuracy on the same plot.\n",
    "\n",
    "<div class=\"alert alert-info\"><strong>A QUICK NOTE: </strong>In the section below marked &nbsp;<tt><em>#Tally the number of correct predictions</em></tt> &nbsp;we include the code\n",
    "<pre style='background-color:rgb(217,237,247)'>\n",
    "predicted = torch.max(y_pred.data, 1)[1]</pre>\n",
    "This uses the <a href='https://pytorch.org/docs/stable/torch.html#torch.max'><tt><strong>torch.max()</strong></tt></a> function. <tt>torch.max()</tt> returns a tensor of maximum values, and a tensor of the indices where the max values were found. In our code we're asking for the index positions of the maximum values along dimension 1. In this way we can match predictions up to image labels.</div>"
   ]
  },
  {
   "cell_type": "code",
   "execution_count": 33,
   "metadata": {},
   "outputs": [
    {
     "name": "stdout",
     "output_type": "stream",
     "text": [
      "epoch:  0  batch:  200 [ 20000/60000]  loss: 0.29955003  accuracy:  82.655%\n",
      "epoch:  0  batch:  400 [ 40000/60000]  loss: 0.27259150  accuracy:  87.248%\n",
      "epoch:  0  batch:  600 [ 60000/60000]  loss: 0.18177123  accuracy:  89.315%\n",
      "epoch:  1  batch:  200 [ 20000/60000]  loss: 0.16961817  accuracy:  94.635%\n",
      "epoch:  1  batch:  400 [ 40000/60000]  loss: 0.05306604  accuracy:  95.032%\n",
      "epoch:  1  batch:  600 [ 60000/60000]  loss: 0.14335889  accuracy:  95.250%\n",
      "epoch:  2  batch:  200 [ 20000/60000]  loss: 0.16369641  accuracy:  96.525%\n",
      "epoch:  2  batch:  400 [ 40000/60000]  loss: 0.17127801  accuracy:  96.522%\n",
      "epoch:  2  batch:  600 [ 60000/60000]  loss: 0.11086698  accuracy:  96.593%\n",
      "epoch:  3  batch:  200 [ 20000/60000]  loss: 0.14032792  accuracy:  97.385%\n",
      "epoch:  3  batch:  400 [ 40000/60000]  loss: 0.01162758  accuracy:  97.468%\n",
      "epoch:  3  batch:  600 [ 60000/60000]  loss: 0.08696868  accuracy:  97.433%\n",
      "epoch:  4  batch:  200 [ 20000/60000]  loss: 0.05282085  accuracy:  97.990%\n",
      "epoch:  4  batch:  400 [ 40000/60000]  loss: 0.10261516  accuracy:  97.950%\n",
      "epoch:  4  batch:  600 [ 60000/60000]  loss: 0.09720209  accuracy:  97.967%\n",
      "epoch:  5  batch:  200 [ 20000/60000]  loss: 0.08092400  accuracy:  98.505%\n",
      "epoch:  5  batch:  400 [ 40000/60000]  loss: 0.02341999  accuracy:  98.415%\n",
      "epoch:  5  batch:  600 [ 60000/60000]  loss: 0.04113235  accuracy:  98.345%\n",
      "epoch:  6  batch:  200 [ 20000/60000]  loss: 0.02881473  accuracy:  98.855%\n",
      "epoch:  6  batch:  400 [ 40000/60000]  loss: 0.02405872  accuracy:  98.703%\n",
      "epoch:  6  batch:  600 [ 60000/60000]  loss: 0.03265526  accuracy:  98.685%\n",
      "epoch:  7  batch:  200 [ 20000/60000]  loss: 0.00331028  accuracy:  99.040%\n",
      "epoch:  7  batch:  400 [ 40000/60000]  loss: 0.00862936  accuracy:  98.900%\n",
      "epoch:  7  batch:  600 [ 60000/60000]  loss: 0.03816338  accuracy:  98.818%\n",
      "epoch:  8  batch:  200 [ 20000/60000]  loss: 0.00688484  accuracy:  99.180%\n",
      "epoch:  8  batch:  400 [ 40000/60000]  loss: 0.09319364  accuracy:  99.165%\n",
      "epoch:  8  batch:  600 [ 60000/60000]  loss: 0.04791918  accuracy:  99.112%\n",
      "epoch:  9  batch:  200 [ 20000/60000]  loss: 0.02591650  accuracy:  99.415%\n",
      "epoch:  9  batch:  400 [ 40000/60000]  loss: 0.04594004  accuracy:  99.382%\n",
      "epoch:  9  batch:  600 [ 60000/60000]  loss: 0.02533324  accuracy:  99.278%\n",
      "\n",
      "Duration: 109 seconds\n"
     ]
    }
   ],
   "source": [
    "import time\n",
    "start_time = time.time()\n",
    "\n",
    "epochs = 10\n",
    "train_losses = []\n",
    "test_losses = []\n",
    "train_correct = []\n",
    "test_correct = []\n",
    "\n",
    "for i in range(epochs):\n",
    "    trn_corr = 0\n",
    "    tst_corr = 0\n",
    "    \n",
    "    # Run the training batches\n",
    "    for b, (X_train, y_train) in enumerate(train_loader):\n",
    "        b+=1\n",
    "        \n",
    "        # Apply the model\n",
    "        y_pred = model(X_train.view(100, -1))  # Here we flatten X_train\n",
    "        loss = criterion(y_pred, y_train)\n",
    " \n",
    "        #y_pred - one hot encoding softmax values [0.1,0.0,0.8, ...]\n",
    "\n",
    "        # Tally the number of correct predictions\n",
    "        predicted = torch.max(y_pred.data, 1)[1]\n",
    "        batch_corr = (predicted == y_train).sum()\n",
    "        trn_corr += batch_corr\n",
    "        \n",
    "        # Update parameters\n",
    "        optimizer.zero_grad()\n",
    "        loss.backward()\n",
    "        optimizer.step()\n",
    "        \n",
    "        # Print interim results\n",
    "        if b%200 == 0:\n",
    "            print(f'epoch: {i:2}  batch: {b:4} [{100*b:6}/60000]  loss: {loss.item():10.8f}  \\\n",
    "accuracy: {trn_corr.item()*100/(100*b):7.3f}%')\n",
    "    \n",
    "    # Update train loss & accuracy for the epoch\n",
    "    train_losses.append(loss)\n",
    "    train_correct.append(trn_corr)\n",
    "        \n",
    "    # Run the testing batches\n",
    "    with torch.no_grad():\n",
    "        for b, (X_test, y_test) in enumerate(test_loader):\n",
    "\n",
    "            # Apply the model\n",
    "            y_val = model(X_test.view(500, -1))  # Here we flatten X_test to 500 samples - size of the batch\n",
    "\n",
    "            # Tally the number of correct predictions\n",
    "            predicted = torch.max(y_val.data, 1)[1] \n",
    "            tst_corr += (predicted == y_test).sum()\n",
    "    \n",
    "    # Update test loss & accuracy for the epoch\n",
    "    loss = criterion(y_val, y_test)\n",
    "    test_losses.append(loss)\n",
    "    test_correct.append(tst_corr)\n",
    "        \n",
    "print(f'\\nDuration: {time.time() - start_time:.0f} seconds') # print the time elapsed            "
   ]
  },
  {
   "cell_type": "code",
   "execution_count": 34,
   "metadata": {},
   "outputs": [
    {
     "name": "stdout",
     "output_type": "stream",
     "text": [
      "tensor([2, 3, 4, 5, 6, 7, 8, 9, 0, 1, 2, 3, 4, 5, 6, 7, 8, 9, 1, 0, 1, 2, 7, 5,\n",
      "        3, 4, 4, 0, 0, 6, 9, 6, 6, 5, 7, 2, 3, 4, 4, 9, 1, 4, 0, 7, 9, 5, 7, 2,\n",
      "        3, 1, 4, 4, 0, 9, 9, 6, 1, 8, 3, 3, 7, 3, 9, 8, 8, 4, 7, 7, 6, 2, 1, 9,\n",
      "        8, 7, 8, 8, 7, 2, 2, 3, 9, 3, 3, 5, 5, 0, 7, 4, 5, 6, 5, 1, 4, 1, 1, 2,\n",
      "        8, 2, 6, 1, 5, 0, 1, 2, 3, 4, 5, 6, 7, 8, 9, 0, 1, 2, 3, 4, 5, 6, 7, 8,\n",
      "        9, 0, 1, 2, 3, 4, 5, 6, 7, 8, 8, 0, 6, 0, 2, 2, 3, 7, 9, 4, 7, 1, 9, 1,\n",
      "        7, 1, 4, 0, 0, 1, 7, 5, 7, 1, 3, 3, 3, 1, 6, 9, 7, 1, 3, 0, 7, 6, 0, 8,\n",
      "        9, 7, 3, 5, 4, 8, 1, 5, 9, 0, 6, 3, 3, 8, 1, 4, 7, 5, 2, 0, 0, 1, 7, 8,\n",
      "        9, 6, 8, 8, 2, 3, 6, 1, 1, 9, 5, 2, 0, 1, 2, 3, 4, 5, 6, 7, 8, 9, 0, 1,\n",
      "        2, 3, 4, 5, 6, 7, 8, 9, 0, 1, 2, 3, 4, 6, 6, 7, 8, 9, 7, 4, 6, 1, 4, 0,\n",
      "        9, 9, 3, 7, 1, 2, 7, 5, 8, 6, 3, 2, 2, 0, 5, 8, 6, 0, 3, 8, 1, 0, 3, 0,\n",
      "        4, 7, 4, 9, 0, 9, 0, 7, 1, 7, 1, 6, 6, 5, 6, 2, 8, 7, 6, 4, 9, 9, 5, 3,\n",
      "        7, 4, 3, 0, 1, 6, 6, 1, 1, 3, 2, 1, 0, 0, 1, 2, 3, 4, 7, 8, 9, 0, 1, 2,\n",
      "        3, 4, 5, 6, 7, 8, 0, 1, 2, 3, 4, 7, 8, 9, 0, 8, 3, 9, 5, 5, 2, 6, 8, 4,\n",
      "        1, 7, 1, 3, 3, 5, 6, 9, 1, 1, 1, 2, 1, 2, 0, 7, 7, 5, 8, 2, 9, 8, 6, 7,\n",
      "        3, 4, 6, 8, 7, 0, 4, 2, 7, 7, 5, 4, 3, 4, 2, 8, 1, 5, 1, 0, 2, 3, 3, 5,\n",
      "        7, 0, 6, 8, 6, 3, 9, 9, 8, 2, 7, 7, 1, 0, 1, 7, 8, 9, 0, 1, 2, 3, 4, 5,\n",
      "        6, 7, 8, 0, 1, 2, 3, 4, 7, 8, 9, 7, 8, 6, 4, 1, 9, 8, 8, 4, 4, 7, 0, 1,\n",
      "        9, 2, 8, 7, 8, 2, 6, 0, 6, 5, 3, 3, 8, 9, 1, 4, 0, 6, 1, 0, 0, 6, 2, 1,\n",
      "        1, 7, 7, 8, 4, 6, 0, 7, 0, 3, 6, 8, 7, 1, 5, 2, 4, 9, 4, 8, 6, 4, 1, 7,\n",
      "        2, 6, 5, 0, 1, 2, 3, 4, 5, 6, 7, 8, 9, 0, 1, 2, 3, 4, 5, 6])\n"
     ]
    }
   ],
   "source": [
    "print(predicted)"
   ]
  },
  {
   "cell_type": "code",
   "execution_count": 35,
   "metadata": {},
   "outputs": [
    {
     "name": "stdout",
     "output_type": "stream",
     "text": [
      "1\n",
      "tensor([[[[0., 0., 0.,  ..., 0., 0., 0.],\n",
      "          [0., 0., 0.,  ..., 0., 0., 0.],\n",
      "          [0., 0., 0.,  ..., 0., 0., 0.],\n",
      "          ...,\n",
      "          [0., 0., 0.,  ..., 0., 0., 0.],\n",
      "          [0., 0., 0.,  ..., 0., 0., 0.],\n",
      "          [0., 0., 0.,  ..., 0., 0., 0.]]],\n",
      "\n",
      "\n",
      "        [[[0., 0., 0.,  ..., 0., 0., 0.],\n",
      "          [0., 0., 0.,  ..., 0., 0., 0.],\n",
      "          [0., 0., 0.,  ..., 0., 0., 0.],\n",
      "          ...,\n",
      "          [0., 0., 0.,  ..., 0., 0., 0.],\n",
      "          [0., 0., 0.,  ..., 0., 0., 0.],\n",
      "          [0., 0., 0.,  ..., 0., 0., 0.]]],\n",
      "\n",
      "\n",
      "        [[[0., 0., 0.,  ..., 0., 0., 0.],\n",
      "          [0., 0., 0.,  ..., 0., 0., 0.],\n",
      "          [0., 0., 0.,  ..., 0., 0., 0.],\n",
      "          ...,\n",
      "          [0., 0., 0.,  ..., 0., 0., 0.],\n",
      "          [0., 0., 0.,  ..., 0., 0., 0.],\n",
      "          [0., 0., 0.,  ..., 0., 0., 0.]]],\n",
      "\n",
      "\n",
      "        ...,\n",
      "\n",
      "\n",
      "        [[[0., 0., 0.,  ..., 0., 0., 0.],\n",
      "          [0., 0., 0.,  ..., 0., 0., 0.],\n",
      "          [0., 0., 0.,  ..., 0., 0., 0.],\n",
      "          ...,\n",
      "          [0., 0., 0.,  ..., 0., 0., 0.],\n",
      "          [0., 0., 0.,  ..., 0., 0., 0.],\n",
      "          [0., 0., 0.,  ..., 0., 0., 0.]]],\n",
      "\n",
      "\n",
      "        [[[0., 0., 0.,  ..., 0., 0., 0.],\n",
      "          [0., 0., 0.,  ..., 0., 0., 0.],\n",
      "          [0., 0., 0.,  ..., 0., 0., 0.],\n",
      "          ...,\n",
      "          [0., 0., 0.,  ..., 0., 0., 0.],\n",
      "          [0., 0., 0.,  ..., 0., 0., 0.],\n",
      "          [0., 0., 0.,  ..., 0., 0., 0.]]],\n",
      "\n",
      "\n",
      "        [[[0., 0., 0.,  ..., 0., 0., 0.],\n",
      "          [0., 0., 0.,  ..., 0., 0., 0.],\n",
      "          [0., 0., 0.,  ..., 0., 0., 0.],\n",
      "          ...,\n",
      "          [0., 0., 0.,  ..., 0., 0., 0.],\n",
      "          [0., 0., 0.,  ..., 0., 0., 0.],\n",
      "          [0., 0., 0.,  ..., 0., 0., 0.]]]])\n",
      "tensor([9, 4, 1, 9, 6, 4, 3, 3, 2, 8, 6, 6, 3, 4, 8, 3, 7, 9, 7, 9, 5, 4, 1, 8,\n",
      "        3, 4, 7, 1, 4, 3, 0, 7, 3, 8, 3, 9, 2, 9, 8, 9, 0, 5, 3, 4, 8, 9, 8, 7,\n",
      "        5, 0, 5, 8, 1, 2, 6, 8, 1, 9, 1, 1, 2, 8, 0, 8, 4, 8, 8, 4, 6, 9, 7, 3,\n",
      "        0, 9, 3, 5, 4, 4, 9, 8, 5, 6, 6, 1, 5, 3, 4, 2, 5, 9, 3, 3, 2, 0, 8, 8,\n",
      "        4, 6, 6, 3])\n"
     ]
    }
   ],
   "source": [
    "for b, (X_train, y_train) in enumerate(train_loader):\n",
    "     b+=1\n",
    "     break\n",
    "    \n",
    "print(b)\n",
    "print(X_train)\n",
    "print(y_train)"
   ]
  },
  {
   "cell_type": "code",
   "execution_count": 36,
   "metadata": {},
   "outputs": [
    {
     "name": "stdout",
     "output_type": "stream",
     "text": [
      "tensor([[-1.8736e+01, -2.5245e+01, -2.1492e+01, -8.3132e+00, -3.1266e+01,\n",
      "         -3.4028e-04, -2.0334e+01, -2.3911e+01, -1.8330e+01, -9.2619e+00],\n",
      "        [-1.4077e+01, -1.7275e-03, -8.3872e+00, -1.2628e+01, -1.4249e+01,\n",
      "         -1.6211e+01, -1.0218e+01, -1.2102e+01, -6.5353e+00, -1.8789e+01],\n",
      "        [-1.5678e+01, -1.6973e+01, -1.2808e+01, -9.7569e+00, -2.1699e+01,\n",
      "         -1.4568e+01, -2.0409e+01, -1.7137e+01, -7.9629e-05, -1.0905e+01],\n",
      "        [-1.1432e-04, -2.3510e+01, -9.2072e+00, -1.3486e+01, -2.7564e+01,\n",
      "         -1.4019e+01, -1.1714e+01, -2.2312e+01, -1.6094e+01, -1.2620e+01],\n",
      "        [-1.5656e+01, -2.1954e+01, -9.4276e+00, -1.6891e-04, -3.1397e+01,\n",
      "         -1.4559e+01, -2.6217e+01, -1.8037e+01, -9.3406e+00, -1.8528e+01],\n",
      "        [-2.0801e+01, -1.4513e+01, -1.0706e+01, -1.3617e+01, -1.8572e+01,\n",
      "         -1.6112e+01, -2.3600e+01, -1.5589e+01, -2.4318e-05, -2.4303e+01],\n",
      "        [-4.3070e+01, -2.2834e+01,  0.0000e+00, -2.0248e+01, -3.2592e+01,\n",
      "         -3.3601e+01, -3.7237e+01, -1.7952e+01, -2.3245e+01, -4.7550e+01],\n",
      "        [-2.9791e+01, -1.8331e+01, -2.1079e+01, -2.4588e+01, -3.9339e-06,\n",
      "         -1.8282e+01, -2.1998e+01, -1.3416e+01, -1.6140e+01, -1.3001e+01],\n",
      "        [-2.5435e+01, -3.4797e+01, -2.2576e+01, -3.0908e+01, -2.7994e+01,\n",
      "         -2.1974e+01,  0.0000e+00, -3.2910e+01, -2.3517e+01, -3.3877e+01],\n",
      "        [-2.1470e+01, -1.7412e+01, -1.8920e+01, -1.4635e+01, -9.6845e+00,\n",
      "         -1.9912e+01, -2.3657e+01, -1.1704e+01, -9.5637e+00, -1.4113e-04],\n",
      "        [-2.6937e+01, -2.4779e+01, -2.2444e+01, -2.3243e+01, -2.4208e-04,\n",
      "         -2.4743e+01, -2.8016e+01, -1.1662e+01, -2.2434e+01, -8.3622e+00],\n",
      "        [-3.2303e+01, -4.3507e+01, -2.6282e+01, -2.0220e+01, -3.0309e+01,\n",
      "         -1.4061e+01, -3.8618e+01, -3.1469e+01, -8.3446e-07, -1.9956e+01],\n",
      "        [-1.2935e+01, -2.5332e+00, -7.1681e+00, -1.7953e+01, -1.2112e-01,\n",
      "         -8.2403e+00, -3.4005e+00, -8.1985e+00, -1.3143e+01, -1.3512e+01],\n",
      "        [-7.4883e+00, -1.8857e+01, -7.8300e+00, -1.0341e+01, -1.7575e+01,\n",
      "         -1.0327e+01, -7.1588e+00, -1.9133e+01, -1.8028e-03, -1.3856e+01],\n",
      "        [-4.2602e+01, -1.4793e+01, -3.5763e-07, -2.1967e+01, -3.8210e+01,\n",
      "         -3.3797e+01, -3.8796e+01, -1.8685e+01, -2.1895e+01, -5.0358e+01],\n",
      "        [-1.6597e+01, -1.9305e+01, -1.6136e+01, -2.2186e+01, -1.6999e+01,\n",
      "         -1.5813e+01, -4.7684e-07, -1.6316e+01, -1.7931e+01, -2.5337e+01],\n",
      "        [-2.5951e+01, -2.0265e-05, -1.7705e+01, -1.5953e+01, -1.3727e+01,\n",
      "         -1.6761e+01, -1.5459e+01, -1.2998e+01, -1.1006e+01, -1.8876e+01],\n",
      "        [-1.8292e+01, -1.3116e+01, -9.3764e+00, -1.0435e+01, -2.0229e+01,\n",
      "         -1.8755e+01, -2.5500e+01, -1.1670e-04, -1.5746e+01, -1.4706e+01],\n",
      "        [-4.4791e+01, -1.9462e+01,  0.0000e+00, -2.3959e+01, -3.8744e+01,\n",
      "         -3.3752e+01, -3.1908e+01, -2.3937e+01, -2.3136e+01, -5.5304e+01],\n",
      "        [-1.2474e+01, -2.9558e+01, -1.6965e+01, -2.4756e+01, -7.1082e+00,\n",
      "         -1.5055e+01, -8.2626e-04, -1.8935e+01, -1.2757e+01, -1.4531e+01],\n",
      "        [-2.5735e+01, -1.1554e+01, -1.4542e+01, -1.4316e+01, -2.1419e+01,\n",
      "         -2.5487e+01, -3.4248e+01, -1.0967e-05, -1.8745e+01, -1.5360e+01],\n",
      "        [-2.4318e+01, -2.0654e+01, -1.4526e+01, -4.1723e-06, -2.3192e+01,\n",
      "         -1.6897e+01, -2.9272e+01, -1.9773e+01, -1.2817e+01, -1.3892e+01],\n",
      "        [-2.0459e+01, -1.9928e+01, -1.6507e+01, -2.6094e+01, -4.1722e-05,\n",
      "         -1.4508e+01, -1.4051e+01, -1.0123e+01, -2.3190e+01, -1.6002e+01],\n",
      "        [-2.2715e+01, -2.1677e+01, -1.8253e+01, -1.7589e+01, -2.4220e+01,\n",
      "         -2.0482e+01, -3.8299e+01, -3.5763e-07, -2.2885e+01, -1.5148e+01],\n",
      "        [-1.5678e+01, -1.5718e+01, -9.0062e+00, -1.6200e+01, -2.4301e+01,\n",
      "         -1.1280e+01, -1.4445e+01, -2.0269e+01, -1.3625e-04, -1.6874e+01],\n",
      "        [-2.3138e+01, -2.0753e+01, -1.5991e+01, -2.7418e-06, -2.5912e+01,\n",
      "         -1.3288e+01, -2.5698e+01, -2.2694e+01, -1.3854e+01, -1.9845e+01],\n",
      "        [-1.6609e+01, -1.8886e+01, -1.3736e+01, -2.0170e+01, -1.5883e+01,\n",
      "         -1.6148e+01, -2.2650e-06, -2.4286e+01, -1.3917e+01, -2.7556e+01],\n",
      "        [-1.9837e+01, -1.9869e+01, -1.3950e+01, -1.0832e+01, -1.5728e+01,\n",
      "         -7.9998e+00, -1.2441e+01, -2.0145e+01, -3.6138e-04, -1.3800e+01],\n",
      "        [-2.3877e+01, -3.3479e+01, -2.3320e+01, -3.1254e+01, -2.8292e+01,\n",
      "         -1.8757e+01,  0.0000e+00, -3.7053e+01, -2.6120e+01, -3.3883e+01],\n",
      "        [-1.5782e-04, -2.3514e+01, -8.7608e+00, -1.5036e+01, -3.0943e+01,\n",
      "         -1.4215e+01, -1.6881e+01, -1.8646e+01, -2.0778e+01, -1.6128e+01],\n",
      "        [-1.9246e+01, -1.4670e+01, -1.2625e+01, -1.0158e+01, -2.6325e+01,\n",
      "         -2.1050e+01, -3.5379e+01, -4.7206e-05, -1.6996e+01, -1.2284e+01],\n",
      "        [-9.2735e+00, -1.3102e+01, -1.9300e-03, -6.6808e+00, -1.7935e+01,\n",
      "         -9.2248e+00, -1.4644e+01, -7.8671e+00, -9.2619e+00, -1.5036e+01],\n",
      "        [-2.2642e+01, -1.7695e+01, -1.5754e+01, -1.6870e+01, -2.1386e+01,\n",
      "         -1.3071e+01, -2.8610e-06, -2.2498e+01, -1.4385e+01, -2.5166e+01],\n",
      "        [-4.1680e+01, -2.2891e+01,  0.0000e+00, -2.5492e+01, -6.3065e+01,\n",
      "         -3.5272e+01, -4.9428e+01, -2.3154e+01, -3.2142e+01, -6.2444e+01],\n",
      "        [-1.8521e+01, -1.4844e+01, -1.6621e+01, -2.2386e+00, -2.7976e+01,\n",
      "         -1.1275e-01, -2.0572e+01, -1.8144e+01, -1.1553e+01, -1.3876e+01],\n",
      "        [-2.8546e+01, -1.8725e+01, -2.0884e+01, -1.1921e-07, -2.5358e+01,\n",
      "         -1.8846e+01, -3.7127e+01, -1.7894e+01, -1.7561e+01, -1.6284e+01],\n",
      "        [-2.4039e+01, -1.5983e+01, -2.0441e+01, -2.3586e+01, -5.1139e-05,\n",
      "         -1.8636e+01, -1.4241e+01, -9.9025e+00, -1.6701e+01, -1.4961e+01],\n",
      "        [-1.5067e+01, -2.2600e+01, -1.9157e+01, -2.0835e+01, -1.7139e+01,\n",
      "         -1.4061e+01, -6.7949e-06, -2.8311e+01, -1.2086e+01, -1.9691e+01],\n",
      "        [-7.4469e-02, -2.4377e+01, -2.0436e+01, -1.5304e+01, -2.3889e+01,\n",
      "         -9.2596e+00, -2.6357e+00, -2.1690e+01, -1.3860e+01, -1.3018e+01],\n",
      "        [-1.9973e+01, -1.4663e-03, -1.2188e+01, -1.0860e+01, -1.0900e+01,\n",
      "         -1.3187e+01, -1.4385e+01, -8.0526e+00, -6.8111e+00, -1.5411e+01],\n",
      "        [-2.2553e+01, -1.4983e+01, -1.1492e+01, -6.6516e+00, -2.1300e+01,\n",
      "         -1.8385e-03, -1.1841e+01, -1.9312e+01, -7.5480e+00, -2.0417e+01],\n",
      "        [-2.6062e+01, -3.6239e-05, -1.7240e+01, -1.5564e+01, -1.1292e+01,\n",
      "         -1.7639e+01, -1.6768e+01, -1.1036e+01, -1.1816e+01, -1.6537e+01],\n",
      "        [-1.1529e+01, -2.0368e+01, -9.9560e+00, -1.2662e+01, -2.8991e+01,\n",
      "         -1.7711e+01, -2.2282e+01, -2.0573e+01, -6.0556e-05, -1.9250e+01],\n",
      "        [-1.1598e+01, -2.3930e+01, -1.5580e+01, -1.6520e+01, -1.6655e+01,\n",
      "         -1.3452e+01, -4.4920e-04, -2.0761e+01, -7.7328e+00, -2.0331e+01],\n",
      "        [-2.4829e+01, -3.3497e-05, -1.5061e+01, -1.7258e+01, -1.4029e+01,\n",
      "         -2.0205e+01, -1.9265e+01, -1.0344e+01, -1.5324e+01, -1.7750e+01],\n",
      "        [-1.6382e+01, -1.6539e+01, -1.8984e+01, -1.2971e+01, -7.8057e+00,\n",
      "         -1.0782e+01, -1.8204e+01, -1.4101e+01, -1.5266e+01, -4.3180e-04],\n",
      "        [-4.5656e-05, -2.7025e+01, -1.0348e+01, -1.8571e+01, -2.7541e+01,\n",
      "         -1.8487e+01, -1.6907e+01, -1.7049e+01, -1.9010e+01, -1.1204e+01],\n",
      "        [-2.2825e+01, -2.7009e+01, -1.6605e+01, -3.0138e+01, -6.1989e-06,\n",
      "         -2.0291e+01, -1.2013e+01, -1.8941e+01, -2.3431e+01, -2.0855e+01],\n",
      "        [-4.8411e-04, -1.8660e+01, -1.2107e+01, -1.2033e+01, -1.9778e+01,\n",
      "         -9.7083e+00, -7.7956e+00, -1.5996e+01, -1.7732e+01, -1.6668e+01],\n",
      "        [-2.3567e+01, -1.7679e+01, -1.2458e+01, -2.2929e+01, -1.8551e+01,\n",
      "         -1.5248e+01, -4.1723e-06, -2.1196e+01, -1.6976e+01, -3.3545e+01],\n",
      "        [-2.8179e+01, -1.9692e+01, -2.6494e+01, -3.0982e+01, -4.2915e-06,\n",
      "         -2.4574e+01, -2.0247e+01, -1.2359e+01, -2.2012e+01, -1.8258e+01],\n",
      "        [-3.0371e+01, -9.1714e+00, -1.1023e+01, -7.7581e+00, -1.3234e+01,\n",
      "         -1.0637e+01, -1.8111e+01, -1.5707e+01, -5.8181e-04, -1.1717e+01],\n",
      "        [-1.3068e+01, -2.0734e+01, -1.0371e-05, -1.4832e+01, -2.3915e+01,\n",
      "         -1.9890e+01, -1.2478e+01, -1.2479e+01, -1.4931e+01, -3.2154e+01],\n",
      "        [-2.2144e+01, -1.9492e+01, -1.8749e+01, -1.3276e+01, -8.8101e+00,\n",
      "         -1.3626e+01, -2.9429e+01, -1.0652e+01, -1.0143e+01, -2.1503e-04],\n",
      "        [-2.4974e+01, -3.0636e-05, -1.4440e+01, -1.6523e+01, -1.4232e+01,\n",
      "         -1.9589e+01, -1.6817e+01, -1.0469e+01, -1.3891e+01, -1.8472e+01],\n",
      "        [-1.0740e-04, -2.3789e+01, -9.1634e+00, -1.8632e+01, -2.4298e+01,\n",
      "         -2.0972e+01, -1.3027e+01, -2.0704e+01, -1.8264e+01, -1.4632e+01],\n",
      "        [-4.5299e-06, -3.3424e+01, -2.3476e+01, -2.5402e+01, -3.0647e+01,\n",
      "         -2.0009e+01, -1.2294e+01, -2.6357e+01, -2.6339e+01, -2.2838e+01],\n",
      "        [-2.1388e+01, -1.7974e+01, -1.5010e+01, -1.7734e+01, -2.1896e+01,\n",
      "         -1.4805e+01, -1.7425e+01, -2.2419e+01, -7.1526e-07, -1.9013e+01],\n",
      "        [-2.9222e+01, -3.3844e+01, -2.3663e+01,  0.0000e+00, -4.5448e+01,\n",
      "         -1.7079e+01, -4.3837e+01, -3.0587e+01, -2.1198e+01, -2.2873e+01],\n",
      "        [-1.9336e+01, -1.6342e+01, -1.5245e+01, -2.2867e+01, -1.9278e+01,\n",
      "         -1.4810e+01, -5.8412e-06, -2.8263e+01, -1.2173e+01, -2.7191e+01],\n",
      "        [-3.5458e+01, -3.6278e+01, -2.6309e+01,  0.0000e+00, -4.9036e+01,\n",
      "         -1.8272e+01, -4.8864e+01, -3.4741e+01, -2.1011e+01, -2.4273e+01],\n",
      "        [-1.9176e+01, -5.6775e-04, -1.2514e+01, -1.7121e+01, -1.0034e+01,\n",
      "         -1.4964e+01, -1.2372e+01, -7.5809e+00, -1.2176e+01, -1.5580e+01],\n",
      "        [-8.3446e-07, -3.8081e+01, -1.9688e+01, -2.7110e+01, -3.0424e+01,\n",
      "         -2.2565e+01, -1.7376e+01, -2.3129e+01, -2.7834e+01, -1.4070e+01],\n",
      "        [-3.9694e+01, -5.4712e-02, -4.5443e+00, -4.2627e+00, -1.1367e+01,\n",
      "         -1.1048e+01, -1.8914e+01, -1.2951e+01, -3.5578e+00, -1.9044e+01],\n",
      "        [-2.5751e+01, -2.2119e+01, -1.8194e+01, -2.7550e+01, -1.5139e-05,\n",
      "         -2.0848e+01, -1.8653e+01, -1.1098e+01, -2.3145e+01, -1.7198e+01],\n",
      "        [-2.2736e+01, -9.2358e+00, -5.0390e-03, -1.8041e+01, -1.9784e+01,\n",
      "         -2.0757e+01, -2.0185e+01, -5.3127e+00, -1.9660e+01, -3.0101e+01],\n",
      "        [-2.2967e+01, -1.8696e+01, -1.2068e+01, -1.8851e+01, -1.6085e+01,\n",
      "         -1.3520e+01, -7.6294e-06, -1.8352e+01, -1.4627e+01, -2.9124e+01],\n",
      "        [-2.2763e+01, -2.5633e+01, -2.6358e+01, -1.3158e+01, -1.7759e+01,\n",
      "         -2.3306e+01, -3.5407e+01, -1.3308e+01, -1.4749e+01, -3.9339e-06],\n",
      "        [-3.2681e+01, -2.7251e+01, -2.0355e+01, -1.0729e-06, -3.2462e+01,\n",
      "         -1.7635e+01, -4.0875e+01, -2.2255e+01, -1.3803e+01, -2.1702e+01],\n",
      "        [-2.0242e+01, -2.2528e+01, -1.9543e+01, -2.3786e+01, -1.6451e-05,\n",
      "         -1.8247e+01, -1.6639e+01, -1.3484e+01, -1.7085e+01, -1.1109e+01],\n",
      "        [-2.5228e+01, -3.8236e+01, -2.6903e+01, -1.2716e+01, -1.9991e+01,\n",
      "         -1.9633e+01, -3.8295e+01, -2.5079e+01, -1.7836e+01, -2.9802e-06],\n",
      "        [-1.8908e+01, -1.5100e+01, -1.4648e+01, -1.4919e+01, -5.3047e-05,\n",
      "         -1.1920e+01, -1.1649e+01, -1.1562e+01, -1.2579e+01, -1.0655e+01],\n",
      "        [-9.8020e+00, -2.1474e+01, -1.7660e+01, -1.8704e+01, -2.0096e+01,\n",
      "         -1.0688e+01, -7.8198e-05, -2.4128e+01, -1.7919e+01, -2.2441e+01],\n",
      "        [-3.3840e+01, -2.5246e+01, -2.1150e+01, -1.1921e-07, -3.3715e+01,\n",
      "         -1.8953e+01, -3.8689e+01, -2.4109e+01, -1.5589e+01, -2.4204e+01],\n",
      "        [-1.4054e+01, -1.5463e+01, -1.8383e+01, -1.3268e+01, -8.2511e+00,\n",
      "         -1.2469e+01, -2.3172e+01, -7.6983e+00, -1.4684e+01, -7.2191e-04],\n",
      "        [-3.2945e+01, -3.0620e+01,  0.0000e+00, -2.8972e+01, -3.1656e+01,\n",
      "         -3.3396e+01, -3.0758e+01, -2.3914e+01, -3.0801e+01, -4.3835e+01],\n",
      "        [-3.2101e+01, -2.0370e+01, -2.2884e+01, -2.6212e+01, -3.5763e-07,\n",
      "         -2.1503e+01, -2.5207e+01, -1.8157e+01, -2.2937e+01, -1.4865e+01],\n",
      "        [-1.7803e+01, -1.7890e+01, -1.6712e+01, -1.6248e+01, -2.3017e+01,\n",
      "         -1.1416e+01, -3.3806e+01, -1.7285e-05, -1.6046e+01, -1.2035e+01],\n",
      "        [-2.2082e+01, -2.6385e+01, -2.8017e+01, -1.1468e+01, -2.2213e+01,\n",
      "         -1.2377e+01, -3.4161e+01, -1.6629e+01, -1.4435e+01, -1.5378e-05],\n",
      "        [-2.3447e+01, -2.7761e+01, -3.0686e+01, -1.2883e+01, -3.0245e+01,\n",
      "         -5.0068e-06, -2.2416e+01, -2.6458e+01, -1.5396e+01, -1.3023e+01],\n",
      "        [-2.5474e+01, -2.3896e+01, -2.1295e+01, -1.9722e+01, -2.9524e+01,\n",
      "         -1.5789e+01, -2.7074e+01, -3.1570e+01, -1.1921e-07, -2.0673e+01],\n",
      "        [-1.9406e+01, -2.2276e+01, -1.9428e+01, -1.0639e+01, -7.9680e+00,\n",
      "         -1.7473e+01, -2.7595e+01, -1.2749e+01, -1.6438e+01, -3.7341e-04],\n",
      "        [-2.4968e+01, -1.3070e-03, -9.2431e+00, -8.2977e+00, -1.8105e+01,\n",
      "         -1.0738e+01, -1.1485e+01, -1.8615e+01, -6.9821e+00, -1.9288e+01],\n",
      "        [-3.4528e+01, -2.7111e+01, -2.5094e+01,  0.0000e+00, -3.2511e+01,\n",
      "         -2.3328e+01, -4.2660e+01, -2.0518e+01, -2.1548e+01, -2.7082e+01],\n",
      "        [-2.6438e+01, -2.0800e+01, -2.2566e+01, -1.6451e-05, -2.8275e+01,\n",
      "         -1.1024e+01, -2.8979e+01, -2.4641e+01, -1.6841e+01, -1.7827e+01],\n",
      "        [-1.9776e+01, -1.6335e+01, -2.7179e-05, -1.0612e+01, -1.8421e+01,\n",
      "         -1.6519e+01, -1.5867e+01, -1.3092e+01, -1.5801e+01, -2.4348e+01],\n",
      "        [-3.1216e+01, -3.2943e-03, -1.5889e+01, -1.4431e+01, -7.7603e+00,\n",
      "         -1.4852e+01, -1.6086e+01, -1.3822e+01, -5.8568e+00, -1.7762e+01],\n",
      "        [-1.1921e-07, -3.1590e+01, -1.5874e+01, -2.4270e+01, -3.5307e+01,\n",
      "         -2.2776e+01, -2.1099e+01, -2.7759e+01, -2.4825e+01, -2.1453e+01],\n",
      "        [-1.0957e+01, -1.0600e+01, -4.5676e+00, -8.2944e+00, -1.1417e+01,\n",
      "         -7.8305e+00, -1.4550e+01, -1.1196e-02, -1.1365e+01, -1.0180e+01],\n",
      "        [-2.7442e+01, -2.4311e+01, -1.1561e+01, -1.0610e-05, -4.1258e+01,\n",
      "         -1.8300e+01, -3.9497e+01, -1.6990e+01, -1.3702e+01, -2.4334e+01],\n",
      "        [-1.8695e+01, -1.6172e+01, -3.8147e-06, -1.6075e+01, -3.5277e+01,\n",
      "         -2.3534e+01, -1.9547e+01, -2.4509e+01, -1.2536e+01, -3.8286e+01],\n",
      "        [-2.5159e+01, -1.6590e+01, -2.2502e+01, -3.9203e-03, -3.2649e+01,\n",
      "         -5.5440e+00, -2.6940e+01, -2.2393e+01, -1.6601e+01, -1.3230e+01],\n",
      "        [-3.2869e+01, -2.9787e+01, -2.3570e+01,  0.0000e+00, -4.1040e+01,\n",
      "         -2.0146e+01, -4.2590e+01, -3.1172e+01, -1.6764e+01, -2.0333e+01],\n",
      "        [-2.0409e+01, -2.2357e+01, -1.1755e+01, -1.4891e+01, -2.5560e+01,\n",
      "         -1.8027e+01, -2.0979e+01, -2.1813e+01, -8.2254e-06, -1.6806e+01],\n",
      "        [-1.4919e+01, -3.8879e-04, -1.2130e+01, -1.6079e+01, -1.0681e+01,\n",
      "         -1.1918e+01, -9.0399e+00, -8.5492e+00, -1.0106e+01, -1.5191e+01],\n",
      "        [-2.2336e+01, -2.2258e+01, -1.8696e+01, -2.8981e+01, -2.8610e-06,\n",
      "         -1.8973e+01, -1.2881e+01, -2.3309e+01, -1.5031e+01, -1.6293e+01],\n",
      "        [-2.1340e+01, -2.3468e+01, -6.0113e+00, -1.3269e+01, -3.0565e+01,\n",
      "         -2.4136e+01, -2.4396e+01, -2.4145e+01, -2.4558e-03, -2.7093e+01],\n",
      "        [-1.8414e+01, -1.9054e+01, -1.3501e+01, -1.8709e+01, -2.9694e+01,\n",
      "         -2.0911e+01, -2.2249e+01, -2.3811e+01, -1.3113e-06, -2.2411e+01],\n",
      "        [-2.5029e+01, -1.6848e+01, -6.3181e-06, -1.2583e+01, -2.6196e+01,\n",
      "         -2.4974e+01, -2.9309e+01, -1.5004e+01, -1.2909e+01, -2.3860e+01],\n",
      "        [-1.9438e+01, -1.9370e+01, -1.3931e+01, -1.6498e+01, -7.1012e-04,\n",
      "         -1.0311e+01, -1.4817e+01, -9.1434e+00, -1.0442e+01, -7.5256e+00]])\n"
     ]
    }
   ],
   "source": [
    "print(y_pred.data)"
   ]
  },
  {
   "cell_type": "code",
   "execution_count": 37,
   "metadata": {},
   "outputs": [
    {
     "name": "stdout",
     "output_type": "stream",
     "text": [
      "1\n"
     ]
    }
   ],
   "source": [
    "print(b)"
   ]
  },
  {
   "cell_type": "code",
   "execution_count": 38,
   "metadata": {},
   "outputs": [
    {
     "name": "stdout",
     "output_type": "stream",
     "text": [
      "tensor([[-1.8736e+01, -2.5245e+01, -2.1492e+01, -8.3132e+00, -3.1266e+01,\n",
      "         -3.4028e-04, -2.0334e+01, -2.3911e+01, -1.8330e+01, -9.2619e+00],\n",
      "        [-1.4077e+01, -1.7275e-03, -8.3872e+00, -1.2628e+01, -1.4249e+01,\n",
      "         -1.6211e+01, -1.0218e+01, -1.2102e+01, -6.5353e+00, -1.8789e+01],\n",
      "        [-1.5678e+01, -1.6973e+01, -1.2808e+01, -9.7569e+00, -2.1699e+01,\n",
      "         -1.4568e+01, -2.0409e+01, -1.7137e+01, -7.9629e-05, -1.0905e+01],\n",
      "        [-1.1432e-04, -2.3510e+01, -9.2072e+00, -1.3486e+01, -2.7564e+01,\n",
      "         -1.4019e+01, -1.1714e+01, -2.2312e+01, -1.6094e+01, -1.2620e+01],\n",
      "        [-1.5656e+01, -2.1954e+01, -9.4276e+00, -1.6891e-04, -3.1397e+01,\n",
      "         -1.4559e+01, -2.6217e+01, -1.8037e+01, -9.3406e+00, -1.8528e+01],\n",
      "        [-2.0801e+01, -1.4513e+01, -1.0706e+01, -1.3617e+01, -1.8572e+01,\n",
      "         -1.6112e+01, -2.3600e+01, -1.5589e+01, -2.4318e-05, -2.4303e+01],\n",
      "        [-4.3070e+01, -2.2834e+01,  0.0000e+00, -2.0248e+01, -3.2592e+01,\n",
      "         -3.3601e+01, -3.7237e+01, -1.7952e+01, -2.3245e+01, -4.7550e+01],\n",
      "        [-2.9791e+01, -1.8331e+01, -2.1079e+01, -2.4588e+01, -3.9339e-06,\n",
      "         -1.8282e+01, -2.1998e+01, -1.3416e+01, -1.6140e+01, -1.3001e+01],\n",
      "        [-2.5435e+01, -3.4797e+01, -2.2576e+01, -3.0908e+01, -2.7994e+01,\n",
      "         -2.1974e+01,  0.0000e+00, -3.2910e+01, -2.3517e+01, -3.3877e+01],\n",
      "        [-2.1470e+01, -1.7412e+01, -1.8920e+01, -1.4635e+01, -9.6845e+00,\n",
      "         -1.9912e+01, -2.3657e+01, -1.1704e+01, -9.5637e+00, -1.4113e-04],\n",
      "        [-2.6937e+01, -2.4779e+01, -2.2444e+01, -2.3243e+01, -2.4208e-04,\n",
      "         -2.4743e+01, -2.8016e+01, -1.1662e+01, -2.2434e+01, -8.3622e+00],\n",
      "        [-3.2303e+01, -4.3507e+01, -2.6282e+01, -2.0220e+01, -3.0309e+01,\n",
      "         -1.4061e+01, -3.8618e+01, -3.1469e+01, -8.3446e-07, -1.9956e+01],\n",
      "        [-1.2935e+01, -2.5332e+00, -7.1681e+00, -1.7953e+01, -1.2112e-01,\n",
      "         -8.2403e+00, -3.4005e+00, -8.1985e+00, -1.3143e+01, -1.3512e+01],\n",
      "        [-7.4883e+00, -1.8857e+01, -7.8300e+00, -1.0341e+01, -1.7575e+01,\n",
      "         -1.0327e+01, -7.1588e+00, -1.9133e+01, -1.8028e-03, -1.3856e+01],\n",
      "        [-4.2602e+01, -1.4793e+01, -3.5763e-07, -2.1967e+01, -3.8210e+01,\n",
      "         -3.3797e+01, -3.8796e+01, -1.8685e+01, -2.1895e+01, -5.0358e+01],\n",
      "        [-1.6597e+01, -1.9305e+01, -1.6136e+01, -2.2186e+01, -1.6999e+01,\n",
      "         -1.5813e+01, -4.7684e-07, -1.6316e+01, -1.7931e+01, -2.5337e+01],\n",
      "        [-2.5951e+01, -2.0265e-05, -1.7705e+01, -1.5953e+01, -1.3727e+01,\n",
      "         -1.6761e+01, -1.5459e+01, -1.2998e+01, -1.1006e+01, -1.8876e+01],\n",
      "        [-1.8292e+01, -1.3116e+01, -9.3764e+00, -1.0435e+01, -2.0229e+01,\n",
      "         -1.8755e+01, -2.5500e+01, -1.1670e-04, -1.5746e+01, -1.4706e+01],\n",
      "        [-4.4791e+01, -1.9462e+01,  0.0000e+00, -2.3959e+01, -3.8744e+01,\n",
      "         -3.3752e+01, -3.1908e+01, -2.3937e+01, -2.3136e+01, -5.5304e+01],\n",
      "        [-1.2474e+01, -2.9558e+01, -1.6965e+01, -2.4756e+01, -7.1082e+00,\n",
      "         -1.5055e+01, -8.2626e-04, -1.8935e+01, -1.2757e+01, -1.4531e+01],\n",
      "        [-2.5735e+01, -1.1554e+01, -1.4542e+01, -1.4316e+01, -2.1419e+01,\n",
      "         -2.5487e+01, -3.4248e+01, -1.0967e-05, -1.8745e+01, -1.5360e+01],\n",
      "        [-2.4318e+01, -2.0654e+01, -1.4526e+01, -4.1723e-06, -2.3192e+01,\n",
      "         -1.6897e+01, -2.9272e+01, -1.9773e+01, -1.2817e+01, -1.3892e+01],\n",
      "        [-2.0459e+01, -1.9928e+01, -1.6507e+01, -2.6094e+01, -4.1722e-05,\n",
      "         -1.4508e+01, -1.4051e+01, -1.0123e+01, -2.3190e+01, -1.6002e+01],\n",
      "        [-2.2715e+01, -2.1677e+01, -1.8253e+01, -1.7589e+01, -2.4220e+01,\n",
      "         -2.0482e+01, -3.8299e+01, -3.5763e-07, -2.2885e+01, -1.5148e+01],\n",
      "        [-1.5678e+01, -1.5718e+01, -9.0062e+00, -1.6200e+01, -2.4301e+01,\n",
      "         -1.1280e+01, -1.4445e+01, -2.0269e+01, -1.3625e-04, -1.6874e+01],\n",
      "        [-2.3138e+01, -2.0753e+01, -1.5991e+01, -2.7418e-06, -2.5912e+01,\n",
      "         -1.3288e+01, -2.5698e+01, -2.2694e+01, -1.3854e+01, -1.9845e+01],\n",
      "        [-1.6609e+01, -1.8886e+01, -1.3736e+01, -2.0170e+01, -1.5883e+01,\n",
      "         -1.6148e+01, -2.2650e-06, -2.4286e+01, -1.3917e+01, -2.7556e+01],\n",
      "        [-1.9837e+01, -1.9869e+01, -1.3950e+01, -1.0832e+01, -1.5728e+01,\n",
      "         -7.9998e+00, -1.2441e+01, -2.0145e+01, -3.6138e-04, -1.3800e+01],\n",
      "        [-2.3877e+01, -3.3479e+01, -2.3320e+01, -3.1254e+01, -2.8292e+01,\n",
      "         -1.8757e+01,  0.0000e+00, -3.7053e+01, -2.6120e+01, -3.3883e+01],\n",
      "        [-1.5782e-04, -2.3514e+01, -8.7608e+00, -1.5036e+01, -3.0943e+01,\n",
      "         -1.4215e+01, -1.6881e+01, -1.8646e+01, -2.0778e+01, -1.6128e+01],\n",
      "        [-1.9246e+01, -1.4670e+01, -1.2625e+01, -1.0158e+01, -2.6325e+01,\n",
      "         -2.1050e+01, -3.5379e+01, -4.7206e-05, -1.6996e+01, -1.2284e+01],\n",
      "        [-9.2735e+00, -1.3102e+01, -1.9300e-03, -6.6808e+00, -1.7935e+01,\n",
      "         -9.2248e+00, -1.4644e+01, -7.8671e+00, -9.2619e+00, -1.5036e+01],\n",
      "        [-2.2642e+01, -1.7695e+01, -1.5754e+01, -1.6870e+01, -2.1386e+01,\n",
      "         -1.3071e+01, -2.8610e-06, -2.2498e+01, -1.4385e+01, -2.5166e+01],\n",
      "        [-4.1680e+01, -2.2891e+01,  0.0000e+00, -2.5492e+01, -6.3065e+01,\n",
      "         -3.5272e+01, -4.9428e+01, -2.3154e+01, -3.2142e+01, -6.2444e+01],\n",
      "        [-1.8521e+01, -1.4844e+01, -1.6621e+01, -2.2386e+00, -2.7976e+01,\n",
      "         -1.1275e-01, -2.0572e+01, -1.8144e+01, -1.1553e+01, -1.3876e+01],\n",
      "        [-2.8546e+01, -1.8725e+01, -2.0884e+01, -1.1921e-07, -2.5358e+01,\n",
      "         -1.8846e+01, -3.7127e+01, -1.7894e+01, -1.7561e+01, -1.6284e+01],\n",
      "        [-2.4039e+01, -1.5983e+01, -2.0441e+01, -2.3586e+01, -5.1139e-05,\n",
      "         -1.8636e+01, -1.4241e+01, -9.9025e+00, -1.6701e+01, -1.4961e+01],\n",
      "        [-1.5067e+01, -2.2600e+01, -1.9157e+01, -2.0835e+01, -1.7139e+01,\n",
      "         -1.4061e+01, -6.7949e-06, -2.8311e+01, -1.2086e+01, -1.9691e+01],\n",
      "        [-7.4469e-02, -2.4377e+01, -2.0436e+01, -1.5304e+01, -2.3889e+01,\n",
      "         -9.2596e+00, -2.6357e+00, -2.1690e+01, -1.3860e+01, -1.3018e+01],\n",
      "        [-1.9973e+01, -1.4663e-03, -1.2188e+01, -1.0860e+01, -1.0900e+01,\n",
      "         -1.3187e+01, -1.4385e+01, -8.0526e+00, -6.8111e+00, -1.5411e+01],\n",
      "        [-2.2553e+01, -1.4983e+01, -1.1492e+01, -6.6516e+00, -2.1300e+01,\n",
      "         -1.8385e-03, -1.1841e+01, -1.9312e+01, -7.5480e+00, -2.0417e+01],\n",
      "        [-2.6062e+01, -3.6239e-05, -1.7240e+01, -1.5564e+01, -1.1292e+01,\n",
      "         -1.7639e+01, -1.6768e+01, -1.1036e+01, -1.1816e+01, -1.6537e+01],\n",
      "        [-1.1529e+01, -2.0368e+01, -9.9560e+00, -1.2662e+01, -2.8991e+01,\n",
      "         -1.7711e+01, -2.2282e+01, -2.0573e+01, -6.0556e-05, -1.9250e+01],\n",
      "        [-1.1598e+01, -2.3930e+01, -1.5580e+01, -1.6520e+01, -1.6655e+01,\n",
      "         -1.3452e+01, -4.4920e-04, -2.0761e+01, -7.7328e+00, -2.0331e+01],\n",
      "        [-2.4829e+01, -3.3497e-05, -1.5061e+01, -1.7258e+01, -1.4029e+01,\n",
      "         -2.0205e+01, -1.9265e+01, -1.0344e+01, -1.5324e+01, -1.7750e+01],\n",
      "        [-1.6382e+01, -1.6539e+01, -1.8984e+01, -1.2971e+01, -7.8057e+00,\n",
      "         -1.0782e+01, -1.8204e+01, -1.4101e+01, -1.5266e+01, -4.3180e-04],\n",
      "        [-4.5656e-05, -2.7025e+01, -1.0348e+01, -1.8571e+01, -2.7541e+01,\n",
      "         -1.8487e+01, -1.6907e+01, -1.7049e+01, -1.9010e+01, -1.1204e+01],\n",
      "        [-2.2825e+01, -2.7009e+01, -1.6605e+01, -3.0138e+01, -6.1989e-06,\n",
      "         -2.0291e+01, -1.2013e+01, -1.8941e+01, -2.3431e+01, -2.0855e+01],\n",
      "        [-4.8411e-04, -1.8660e+01, -1.2107e+01, -1.2033e+01, -1.9778e+01,\n",
      "         -9.7083e+00, -7.7956e+00, -1.5996e+01, -1.7732e+01, -1.6668e+01],\n",
      "        [-2.3567e+01, -1.7679e+01, -1.2458e+01, -2.2929e+01, -1.8551e+01,\n",
      "         -1.5248e+01, -4.1723e-06, -2.1196e+01, -1.6976e+01, -3.3545e+01],\n",
      "        [-2.8179e+01, -1.9692e+01, -2.6494e+01, -3.0982e+01, -4.2915e-06,\n",
      "         -2.4574e+01, -2.0247e+01, -1.2359e+01, -2.2012e+01, -1.8258e+01],\n",
      "        [-3.0371e+01, -9.1714e+00, -1.1023e+01, -7.7581e+00, -1.3234e+01,\n",
      "         -1.0637e+01, -1.8111e+01, -1.5707e+01, -5.8181e-04, -1.1717e+01],\n",
      "        [-1.3068e+01, -2.0734e+01, -1.0371e-05, -1.4832e+01, -2.3915e+01,\n",
      "         -1.9890e+01, -1.2478e+01, -1.2479e+01, -1.4931e+01, -3.2154e+01],\n",
      "        [-2.2144e+01, -1.9492e+01, -1.8749e+01, -1.3276e+01, -8.8101e+00,\n",
      "         -1.3626e+01, -2.9429e+01, -1.0652e+01, -1.0143e+01, -2.1503e-04],\n",
      "        [-2.4974e+01, -3.0636e-05, -1.4440e+01, -1.6523e+01, -1.4232e+01,\n",
      "         -1.9589e+01, -1.6817e+01, -1.0469e+01, -1.3891e+01, -1.8472e+01],\n",
      "        [-1.0740e-04, -2.3789e+01, -9.1634e+00, -1.8632e+01, -2.4298e+01,\n",
      "         -2.0972e+01, -1.3027e+01, -2.0704e+01, -1.8264e+01, -1.4632e+01],\n",
      "        [-4.5299e-06, -3.3424e+01, -2.3476e+01, -2.5402e+01, -3.0647e+01,\n",
      "         -2.0009e+01, -1.2294e+01, -2.6357e+01, -2.6339e+01, -2.2838e+01],\n",
      "        [-2.1388e+01, -1.7974e+01, -1.5010e+01, -1.7734e+01, -2.1896e+01,\n",
      "         -1.4805e+01, -1.7425e+01, -2.2419e+01, -7.1526e-07, -1.9013e+01],\n",
      "        [-2.9222e+01, -3.3844e+01, -2.3663e+01,  0.0000e+00, -4.5448e+01,\n",
      "         -1.7079e+01, -4.3837e+01, -3.0587e+01, -2.1198e+01, -2.2873e+01],\n",
      "        [-1.9336e+01, -1.6342e+01, -1.5245e+01, -2.2867e+01, -1.9278e+01,\n",
      "         -1.4810e+01, -5.8412e-06, -2.8263e+01, -1.2173e+01, -2.7191e+01],\n",
      "        [-3.5458e+01, -3.6278e+01, -2.6309e+01,  0.0000e+00, -4.9036e+01,\n",
      "         -1.8272e+01, -4.8864e+01, -3.4741e+01, -2.1011e+01, -2.4273e+01],\n",
      "        [-1.9176e+01, -5.6775e-04, -1.2514e+01, -1.7121e+01, -1.0034e+01,\n",
      "         -1.4964e+01, -1.2372e+01, -7.5809e+00, -1.2176e+01, -1.5580e+01],\n",
      "        [-8.3446e-07, -3.8081e+01, -1.9688e+01, -2.7110e+01, -3.0424e+01,\n",
      "         -2.2565e+01, -1.7376e+01, -2.3129e+01, -2.7834e+01, -1.4070e+01],\n",
      "        [-3.9694e+01, -5.4712e-02, -4.5443e+00, -4.2627e+00, -1.1367e+01,\n",
      "         -1.1048e+01, -1.8914e+01, -1.2951e+01, -3.5578e+00, -1.9044e+01],\n",
      "        [-2.5751e+01, -2.2119e+01, -1.8194e+01, -2.7550e+01, -1.5139e-05,\n",
      "         -2.0848e+01, -1.8653e+01, -1.1098e+01, -2.3145e+01, -1.7198e+01],\n",
      "        [-2.2736e+01, -9.2358e+00, -5.0390e-03, -1.8041e+01, -1.9784e+01,\n",
      "         -2.0757e+01, -2.0185e+01, -5.3127e+00, -1.9660e+01, -3.0101e+01],\n",
      "        [-2.2967e+01, -1.8696e+01, -1.2068e+01, -1.8851e+01, -1.6085e+01,\n",
      "         -1.3520e+01, -7.6294e-06, -1.8352e+01, -1.4627e+01, -2.9124e+01],\n",
      "        [-2.2763e+01, -2.5633e+01, -2.6358e+01, -1.3158e+01, -1.7759e+01,\n",
      "         -2.3306e+01, -3.5407e+01, -1.3308e+01, -1.4749e+01, -3.9339e-06],\n",
      "        [-3.2681e+01, -2.7251e+01, -2.0355e+01, -1.0729e-06, -3.2462e+01,\n",
      "         -1.7635e+01, -4.0875e+01, -2.2255e+01, -1.3803e+01, -2.1702e+01],\n",
      "        [-2.0242e+01, -2.2528e+01, -1.9543e+01, -2.3786e+01, -1.6451e-05,\n",
      "         -1.8247e+01, -1.6639e+01, -1.3484e+01, -1.7085e+01, -1.1109e+01],\n",
      "        [-2.5228e+01, -3.8236e+01, -2.6903e+01, -1.2716e+01, -1.9991e+01,\n",
      "         -1.9633e+01, -3.8295e+01, -2.5079e+01, -1.7836e+01, -2.9802e-06],\n",
      "        [-1.8908e+01, -1.5100e+01, -1.4648e+01, -1.4919e+01, -5.3047e-05,\n",
      "         -1.1920e+01, -1.1649e+01, -1.1562e+01, -1.2579e+01, -1.0655e+01],\n",
      "        [-9.8020e+00, -2.1474e+01, -1.7660e+01, -1.8704e+01, -2.0096e+01,\n",
      "         -1.0688e+01, -7.8198e-05, -2.4128e+01, -1.7919e+01, -2.2441e+01],\n",
      "        [-3.3840e+01, -2.5246e+01, -2.1150e+01, -1.1921e-07, -3.3715e+01,\n",
      "         -1.8953e+01, -3.8689e+01, -2.4109e+01, -1.5589e+01, -2.4204e+01],\n",
      "        [-1.4054e+01, -1.5463e+01, -1.8383e+01, -1.3268e+01, -8.2511e+00,\n",
      "         -1.2469e+01, -2.3172e+01, -7.6983e+00, -1.4684e+01, -7.2191e-04],\n",
      "        [-3.2945e+01, -3.0620e+01,  0.0000e+00, -2.8972e+01, -3.1656e+01,\n",
      "         -3.3396e+01, -3.0758e+01, -2.3914e+01, -3.0801e+01, -4.3835e+01],\n",
      "        [-3.2101e+01, -2.0370e+01, -2.2884e+01, -2.6212e+01, -3.5763e-07,\n",
      "         -2.1503e+01, -2.5207e+01, -1.8157e+01, -2.2937e+01, -1.4865e+01],\n",
      "        [-1.7803e+01, -1.7890e+01, -1.6712e+01, -1.6248e+01, -2.3017e+01,\n",
      "         -1.1416e+01, -3.3806e+01, -1.7285e-05, -1.6046e+01, -1.2035e+01],\n",
      "        [-2.2082e+01, -2.6385e+01, -2.8017e+01, -1.1468e+01, -2.2213e+01,\n",
      "         -1.2377e+01, -3.4161e+01, -1.6629e+01, -1.4435e+01, -1.5378e-05],\n",
      "        [-2.3447e+01, -2.7761e+01, -3.0686e+01, -1.2883e+01, -3.0245e+01,\n",
      "         -5.0068e-06, -2.2416e+01, -2.6458e+01, -1.5396e+01, -1.3023e+01],\n",
      "        [-2.5474e+01, -2.3896e+01, -2.1295e+01, -1.9722e+01, -2.9524e+01,\n",
      "         -1.5789e+01, -2.7074e+01, -3.1570e+01, -1.1921e-07, -2.0673e+01],\n",
      "        [-1.9406e+01, -2.2276e+01, -1.9428e+01, -1.0639e+01, -7.9680e+00,\n",
      "         -1.7473e+01, -2.7595e+01, -1.2749e+01, -1.6438e+01, -3.7341e-04],\n",
      "        [-2.4968e+01, -1.3070e-03, -9.2431e+00, -8.2977e+00, -1.8105e+01,\n",
      "         -1.0738e+01, -1.1485e+01, -1.8615e+01, -6.9821e+00, -1.9288e+01],\n",
      "        [-3.4528e+01, -2.7111e+01, -2.5094e+01,  0.0000e+00, -3.2511e+01,\n",
      "         -2.3328e+01, -4.2660e+01, -2.0518e+01, -2.1548e+01, -2.7082e+01],\n",
      "        [-2.6438e+01, -2.0800e+01, -2.2566e+01, -1.6451e-05, -2.8275e+01,\n",
      "         -1.1024e+01, -2.8979e+01, -2.4641e+01, -1.6841e+01, -1.7827e+01],\n",
      "        [-1.9776e+01, -1.6335e+01, -2.7179e-05, -1.0612e+01, -1.8421e+01,\n",
      "         -1.6519e+01, -1.5867e+01, -1.3092e+01, -1.5801e+01, -2.4348e+01],\n",
      "        [-3.1216e+01, -3.2943e-03, -1.5889e+01, -1.4431e+01, -7.7603e+00,\n",
      "         -1.4852e+01, -1.6086e+01, -1.3822e+01, -5.8568e+00, -1.7762e+01],\n",
      "        [-1.1921e-07, -3.1590e+01, -1.5874e+01, -2.4270e+01, -3.5307e+01,\n",
      "         -2.2776e+01, -2.1099e+01, -2.7759e+01, -2.4825e+01, -2.1453e+01],\n",
      "        [-1.0957e+01, -1.0600e+01, -4.5676e+00, -8.2944e+00, -1.1417e+01,\n",
      "         -7.8305e+00, -1.4550e+01, -1.1196e-02, -1.1365e+01, -1.0180e+01],\n",
      "        [-2.7442e+01, -2.4311e+01, -1.1561e+01, -1.0610e-05, -4.1258e+01,\n",
      "         -1.8300e+01, -3.9497e+01, -1.6990e+01, -1.3702e+01, -2.4334e+01],\n",
      "        [-1.8695e+01, -1.6172e+01, -3.8147e-06, -1.6075e+01, -3.5277e+01,\n",
      "         -2.3534e+01, -1.9547e+01, -2.4509e+01, -1.2536e+01, -3.8286e+01],\n",
      "        [-2.5159e+01, -1.6590e+01, -2.2502e+01, -3.9203e-03, -3.2649e+01,\n",
      "         -5.5440e+00, -2.6940e+01, -2.2393e+01, -1.6601e+01, -1.3230e+01],\n",
      "        [-3.2869e+01, -2.9787e+01, -2.3570e+01,  0.0000e+00, -4.1040e+01,\n",
      "         -2.0146e+01, -4.2590e+01, -3.1172e+01, -1.6764e+01, -2.0333e+01],\n",
      "        [-2.0409e+01, -2.2357e+01, -1.1755e+01, -1.4891e+01, -2.5560e+01,\n",
      "         -1.8027e+01, -2.0979e+01, -2.1813e+01, -8.2254e-06, -1.6806e+01],\n",
      "        [-1.4919e+01, -3.8879e-04, -1.2130e+01, -1.6079e+01, -1.0681e+01,\n",
      "         -1.1918e+01, -9.0399e+00, -8.5492e+00, -1.0106e+01, -1.5191e+01],\n",
      "        [-2.2336e+01, -2.2258e+01, -1.8696e+01, -2.8981e+01, -2.8610e-06,\n",
      "         -1.8973e+01, -1.2881e+01, -2.3309e+01, -1.5031e+01, -1.6293e+01],\n",
      "        [-2.1340e+01, -2.3468e+01, -6.0113e+00, -1.3269e+01, -3.0565e+01,\n",
      "         -2.4136e+01, -2.4396e+01, -2.4145e+01, -2.4558e-03, -2.7093e+01],\n",
      "        [-1.8414e+01, -1.9054e+01, -1.3501e+01, -1.8709e+01, -2.9694e+01,\n",
      "         -2.0911e+01, -2.2249e+01, -2.3811e+01, -1.3113e-06, -2.2411e+01],\n",
      "        [-2.5029e+01, -1.6848e+01, -6.3181e-06, -1.2583e+01, -2.6196e+01,\n",
      "         -2.4974e+01, -2.9309e+01, -1.5004e+01, -1.2909e+01, -2.3860e+01],\n",
      "        [-1.9438e+01, -1.9370e+01, -1.3931e+01, -1.6498e+01, -7.1012e-04,\n",
      "         -1.0311e+01, -1.4817e+01, -9.1434e+00, -1.0442e+01, -7.5256e+00]],\n",
      "       grad_fn=<LogSoftmaxBackward0>)\n"
     ]
    }
   ],
   "source": [
    "print(y_pred)"
   ]
  },
  {
   "cell_type": "markdown",
   "metadata": {},
   "source": [
    "### Plot the loss and accuracy comparisons"
   ]
  },
  {
   "cell_type": "code",
   "execution_count": 39,
   "metadata": {},
   "outputs": [],
   "source": [
    "train_losses = [loss.item() for loss in train_losses]\n",
    "test_losses  = [loss.item() for loss in test_losses]"
   ]
  },
  {
   "cell_type": "code",
   "execution_count": 40,
   "metadata": {},
   "outputs": [
    {
     "data": {
      "image/png": "[encoded data removed]",
      "text/plain": [
       "<Figure size 432x288 with 1 Axes>"
      ]
     },
     "metadata": {
      "needs_background": "light"
     },
     "output_type": "display_data"
    }
   ],
   "source": [
    "plt.plot(train_losses, label='training loss')\n",
    "plt.plot(test_losses, label='validation loss')\n",
    "plt.title('Loss at the end of each epoch')\n",
    "plt.legend();"
   ]
  },
  {
   "cell_type": "markdown",
   "metadata": {},
   "source": [
    "This shows some evidence of overfitting the training data."
   ]
  },
  {
   "cell_type": "code",
   "execution_count": 41,
   "metadata": {},
   "outputs": [
    {
     "data": {
      "image/png": "[encoded data removed]",
      "text/plain": [
       "<Figure size 432x288 with 1 Axes>"
      ]
     },
     "metadata": {
      "needs_background": "light"
     },
     "output_type": "display_data"
    }
   ],
   "source": [
    "plt.plot([t/600 for t in train_correct], label='training accuracy')\n",
    "plt.plot([t/100 for t in test_correct], label='validation accuracy')\n",
    "plt.title('Accuracy at the end of each epoch')\n",
    "plt.legend();"
   ]
  },
  {
   "cell_type": "code",
   "execution_count": 42,
   "metadata": {},
   "outputs": [
    {
     "data": {
      "text/plain": [
       "[tensor(53589),\n",
       " tensor(57150),\n",
       " tensor(57956),\n",
       " tensor(58460),\n",
       " tensor(58780),\n",
       " tensor(59007),\n",
       " tensor(59211),\n",
       " tensor(59291),\n",
       " tensor(59467),\n",
       " tensor(59567)]"
      ]
     },
     "execution_count": 42,
     "metadata": {},
     "output_type": "execute_result"
    }
   ],
   "source": [
    "train_correct"
   ]
  },
  {
   "cell_type": "code",
   "execution_count": 43,
   "metadata": {},
   "outputs": [
    {
     "data": {
      "text/plain": [
       "[tensor(9454),\n",
       " tensor(9600),\n",
       " tensor(9658),\n",
       " tensor(9719),\n",
       " tensor(9655),\n",
       " tensor(9749),\n",
       " tensor(9728),\n",
       " tensor(9759),\n",
       " tensor(9749),\n",
       " tensor(9761)]"
      ]
     },
     "execution_count": 43,
     "metadata": {},
     "output_type": "execute_result"
    }
   ],
   "source": [
    "test_correct"
   ]
  },
  {
   "cell_type": "markdown",
   "metadata": {},
   "source": [
    "## 5. Inference"
   ]
  },
  {
   "cell_type": "code",
   "execution_count": 44,
   "metadata": {
    "scrolled": true
   },
   "outputs": [
    {
     "name": "stdout",
     "output_type": "stream",
     "text": [
      "[tensor(9454), tensor(9600), tensor(9658), tensor(9719), tensor(9655), tensor(9749), tensor(9728), tensor(9759), tensor(9749), tensor(9761)]\n",
      "\n",
      "Test accuracy: 97.610%\n"
     ]
    }
   ],
   "source": [
    "print(test_correct) # contains the results of all 10 epochs\n",
    "print()\n",
    "print(f'Test accuracy: {test_correct[-1].item()*100/10000:.3f}%') # print the most recent result as a percent"
   ]
  },
  {
   "cell_type": "code",
   "execution_count": 45,
   "metadata": {},
   "outputs": [
    {
     "data": {
      "text/plain": [
       "9761"
      ]
     },
     "execution_count": 45,
     "metadata": {},
     "output_type": "execute_result"
    }
   ],
   "source": [
    "test_correct[-1].item()"
   ]
  },
  {
   "cell_type": "code",
   "execution_count": 46,
   "metadata": {},
   "outputs": [
    {
     "data": {
      "text/plain": [
       "tensor(9761)"
      ]
     },
     "execution_count": 46,
     "metadata": {},
     "output_type": "execute_result"
    }
   ],
   "source": [
    "test_correct[-1]"
   ]
  },
  {
   "cell_type": "markdown",
   "metadata": {},
   "source": [
    "However, we'd like to compare the predicted values to the ground truth (the y_test labels), so we'll run the test set through the trained model all at once."
   ]
  },
  {
   "cell_type": "code",
   "execution_count": 47,
   "metadata": {},
   "outputs": [],
   "source": [
    "# Extract the data all at once, not in batches\n",
    "test_load_all = DataLoader(test_data, batch_size=10000, shuffle=False)"
   ]
  },
  {
   "cell_type": "code",
   "execution_count": 48,
   "metadata": {},
   "outputs": [
    {
     "name": "stdout",
     "output_type": "stream",
     "text": [
      "Test accuracy: 9761/10000 =  97.610%\n"
     ]
    }
   ],
   "source": [
    "with torch.no_grad():\n",
    "    correct = 0\n",
    "    for X_test, y_test in test_load_all:\n",
    "        y_val = model(X_test.view(len(X_test), -1))  # pass in a flattened view of X_test\n",
    "        predicted = torch.max(y_val,1)[1]\n",
    "        correct += (predicted == y_test).sum()\n",
    "print(f'Test accuracy: {correct.item()}/{len(test_data)} = {correct.item()*100/(len(test_data)):7.3f}%')"
   ]
  },
  {
   "cell_type": "markdown",
   "metadata": {},
   "source": [
    "Not bad considering that a random guess gives only 10% accuracy!"
   ]
  },
  {
   "cell_type": "markdown",
   "metadata": {},
   "source": [
    "### Display the confusion matrix\n",
    "This uses scikit-learn, and the predicted values obtained above."
   ]
  },
  {
   "cell_type": "code",
   "execution_count": 49,
   "metadata": {},
   "outputs": [
    {
     "name": "stdout",
     "output_type": "stream",
     "text": [
      "[[   0    1    2    3    4    5    6    7    8    9]]\n",
      "\n",
      "[[ 969    0    1    1    1    2    2    1    3    4]\n",
      " [   0 1122    1    0    1    1    3    7    1    3]\n",
      " [   3    3 1018   12    5    0    3   10    3    0]\n",
      " [   1    2    2  981    0   12    1    1    3    6]\n",
      " [   0    0    1    0  945    1    2    1    0    5]\n",
      " [   1    0    1    1    0  861    1    0    2    9]\n",
      " [   2    1    2    1   11    6  944    0    4    1]\n",
      " [   0    1    4    5    5    0    0 1001    4    2]\n",
      " [   3    6    2    8    3    8    2    4  953   12]\n",
      " [   1    0    0    1   11    1    0    3    1  967]]\n"
     ]
    }
   ],
   "source": [
    "# print a row of values for reference\n",
    "np.set_printoptions(formatter=dict(int=lambda x: f'{x:4}'))\n",
    "print(np.arange(10).reshape(1,10))\n",
    "print()\n",
    "\n",
    "# print the confusion matrix\n",
    "print(confusion_matrix(predicted.view(-1), y_test.view(-1)))"
   ]
  },
  {
   "cell_type": "markdown",
   "metadata": {},
   "source": [
    "This shows that the model had the greatest success with ones, twos and sevens, and the lowest with fives, sixes and eights."
   ]
  },
  {
   "cell_type": "markdown",
   "metadata": {},
   "source": [
    "## 6. Error analysis: Examine the misses\n",
    "We can track the index positions of \"missed\" predictions, and extract the corresponding image and label. We'll do this in batches to save screen space."
   ]
  },
  {
   "cell_type": "code",
   "execution_count": 50,
   "metadata": {},
   "outputs": [
    {
     "data": {
      "text/plain": [
       "239"
      ]
     },
     "execution_count": 50,
     "metadata": {},
     "output_type": "execute_result"
    }
   ],
   "source": [
    "misses = np.array([])\n",
    "for i in range(len(predicted.view(-1))):\n",
    "    if predicted[i] != y_test[i]:\n",
    "        misses = np.append(misses,i).astype('int64')\n",
    "        \n",
    "# Display the number of misses\n",
    "len(misses)"
   ]
  },
  {
   "cell_type": "code",
   "execution_count": 51,
   "metadata": {},
   "outputs": [
    {
     "data": {
      "text/plain": [
       "tensor([7, 2, 1,  ..., 4, 5, 6])"
      ]
     },
     "execution_count": 51,
     "metadata": {},
     "output_type": "execute_result"
    }
   ],
   "source": [
    "predicted.view(-1)"
   ]
  },
  {
   "cell_type": "code",
   "execution_count": 52,
   "metadata": {},
   "outputs": [
    {
     "data": {
      "text/plain": [
       "array([  18,  104,  115,  149,  151,  241,  247,  274,  320,  321])"
      ]
     },
     "execution_count": 52,
     "metadata": {},
     "output_type": "execute_result"
    }
   ],
   "source": [
    "# Display the first 10 index positions\n",
    "misses[:10]"
   ]
  },
  {
   "cell_type": "code",
   "execution_count": 53,
   "metadata": {},
   "outputs": [
    {
     "data": {
      "text/plain": [
       "array([  18,  104,  115,  149,  151,  241,  247,  274,  320,  321,  340,\n",
       "        381,  445,  447,  448,  495,  578,  582,  619,  720,  877,  882,\n",
       "        938,  944,  951,  956, 1014, 1032, 1039, 1044, 1107, 1112, 1128,\n",
       "       1178, 1181, 1182, 1226, 1232, 1242, 1247, 1260, 1319, 1328, 1378,\n",
       "       1393, 1500, 1522, 1527, 1530, 1549, 1553, 1554, 1609, 1681, 1709,\n",
       "       1717, 1737, 1748, 1751, 1754, 1790, 1901, 1913, 1938, 1941, 1952,\n",
       "       1987, 2016, 2035, 2043, 2053, 2070, 2109, 2118, 2130, 2135, 2182,\n",
       "       2237, 2266, 2272, 2293, 2329, 2369, 2387, 2395, 2405, 2406, 2414,\n",
       "       2488, 2582, 2597, 2607, 2648, 2654, 2713, 2743, 2810, 2836, 2877,\n",
       "       2896, 2915, 2921, 2927, 2939, 3073, 3114, 3117, 3172, 3173, 3405,\n",
       "       3422, 3503, 3520, 3549, 3558, 3565, 3567, 3597, 3718, 3751, 3776,\n",
       "       3780, 3808, 3811, 3838, 3853, 3893, 3906, 3926, 3941, 3976, 3985,\n",
       "       4000, 4065, 4078, 4116, 4163, 4176, 4199, 4201, 4269, 4271, 4289,\n",
       "       4294, 4360, 4369, 4425, 4437, 4497, 4534, 4551, 4731, 4751, 4761,\n",
       "       4807, 4823, 4833, 4860, 4874, 4880, 4915, 4966, 4990, 5140, 5331,\n",
       "       5409, 5457, 5600, 5642, 5676, 5734, 5749, 5835, 5842, 5887, 5888,\n",
       "       5936, 5937, 5955, 5972, 5973, 5982, 5997, 6023, 6059, 6400, 6421,\n",
       "       6505, 6529, 6555, 6558, 6559, 6571, 6574, 6576, 6608, 6632, 6651,\n",
       "       6755, 6759, 6769, 7216, 7434, 7451, 7800, 7821, 8010, 8020, 8062,\n",
       "       8094, 8183, 8325, 8408, 8522, 8523, 8527, 9009, 9015, 9019, 9024,\n",
       "       9071, 9422, 9587, 9634, 9664, 9669, 9679, 9700, 9729, 9744, 9745,\n",
       "       9749, 9768, 9770, 9792, 9839, 9925, 9944, 9975])"
      ]
     },
     "execution_count": 53,
     "metadata": {},
     "output_type": "execute_result"
    }
   ],
   "source": [
    "misses"
   ]
  },
  {
   "cell_type": "code",
   "execution_count": 54,
   "metadata": {},
   "outputs": [],
   "source": [
    "# Set up an iterator to feed batched rows\n",
    "r = 12   # row size\n",
    "row = iter(np.array_split(misses,len(misses)//r+1))"
   ]
  },
  {
   "cell_type": "code",
   "execution_count": 55,
   "metadata": {},
   "outputs": [
    {
     "data": {
      "text/plain": [
       "list_iterator"
      ]
     },
     "execution_count": 55,
     "metadata": {},
     "output_type": "execute_result"
    }
   ],
   "source": [
    "type(row)"
   ]
  },
  {
   "cell_type": "markdown",
   "metadata": {},
   "source": [
    "Now that everything is set up, run and re-run the cell below to view all of the missed predictions.<br>\n",
    "Use <kbd>Ctrl+Enter</kbd> to remain on the cell between runs. You'll see a <tt>StopIteration</tt> once all the misses have been seen."
   ]
  },
  {
   "cell_type": "code",
   "execution_count": 56,
   "metadata": {},
   "outputs": [
    {
     "name": "stdout",
     "output_type": "stream",
     "text": [
      "Index: [  18  104  115  149  151  241  247  274  320  321  340  381]\n",
      "Label: [   3    9    4    2    9    9    4    9    9    2    5    3]\n",
      "Guess: [   8    5    9    5    8    8    6    3    8    7    3    7]\n"
     ]
    },
    {
     "data": {
      "image/png": "[encoded data removed]",
      "text/plain": [
       "<Figure size 720x288 with 1 Axes>"
      ]
     },
     "metadata": {
      "needs_background": "light"
     },
     "output_type": "display_data"
    }
   ],
   "source": [
    "nextrow = next(row)\n",
    "print(\"Index:\", nextrow)\n",
    "print(\"Label:\", y_test.index_select(0,torch.tensor(nextrow)).numpy())\n",
    "print(\"Guess:\", predicted.index_select(0,torch.tensor(nextrow)).numpy())\n",
    "\n",
    "images = X_test.index_select(0,torch.tensor(nextrow))\n",
    "im = make_grid(images, nrow=r)\n",
    "plt.figure(figsize=(10,4))\n",
    "plt.imshow(np.transpose(im.numpy(), (1, 2, 0)));"
   ]
  },
  {
   "cell_type": "code",
   "execution_count": 57,
   "metadata": {},
   "outputs": [
    {
     "data": {
      "text/plain": [
       "array([  18,  104,  115,  149,  151,  241,  247,  274,  320,  321,  340,\n",
       "        381])"
      ]
     },
     "execution_count": 57,
     "metadata": {},
     "output_type": "execute_result"
    }
   ],
   "source": [
    "nextrow"
   ]
  }
 ],
 "metadata": {
  "kernelspec": {
   "display_name": "Python 3.10.4 64-bit",
   "language": "python",
   "name": "python3"
  },
  "language_info": {
   "codemirror_mode": {
    "name": "ipython",
    "version": 3
   },
   "file_extension": ".py",
   "mimetype": "text/x-python",
   "name": "python",
   "nbconvert_exporter": "python",
   "pygments_lexer": "ipython3",
   "version": "3.10.4"
  },
  "vscode": {
   "interpreter": {
    "hash": "c81d839d3c4227cd770621df97fe8191838af02e7eef185a922d8250cb33d344"
   }
  }
 },
 "nbformat": 4,
 "nbformat_minor": 2
}
